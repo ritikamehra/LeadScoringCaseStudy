{
  "nbformat": 4,
  "nbformat_minor": 0,
  "metadata": {
    "colab": {
      "provenance": []
    },
    "kernelspec": {
      "name": "python3",
      "display_name": "Python 3"
    },
    "language_info": {
      "name": "python"
    }
  },
  "cells": [
    {
      "cell_type": "code",
      "execution_count": 1,
      "metadata": {
        "id": "CYdiStqGaELG"
      },
      "outputs": [],
      "source": []
    },
    {
      "cell_type": "markdown",
      "source": [
        "An education company named X Education sells online courses to industry professionals. On any given day, many professionals who are interested in the courses land on their website and browse for courses. \n",
        "\n",
        " \n",
        "\n",
        "The company markets its courses on several websites and search engines like Google. Once these people land on the website, they might browse the courses or fill up a form for the course or watch some videos. When these people fill up a form providing their email address or phone number, they are classified to be a lead. Moreover, the company also gets leads through past referrals. Once these leads are acquired, employees from the sales team start making calls, writing emails, etc. Through this process, some of the leads get converted while most do not. The typical lead conversion rate at X education is around 30%. \n",
        "\n",
        " \n",
        "\n",
        "Now, although X Education gets a lot of leads, its lead conversion rate is very poor. For example, if, say, they acquire 100 leads in a day, only about 30 of them are converted. To make this process more efficient, the company wishes to identify the most potential leads, also known as ‘Hot Leads’. If they successfully identify this set of leads, the lead conversion rate should go up as the sales team will now be focusing more on communicating with the potential leads rather than making calls to everyone. A typical lead conversion process can be represented using the following funnel:\n",
        "\n",
        "Lead Conversion Process - Demonstrated as a funnel\n",
        "Lead Conversion Process - Demonstrated as a funnel\n",
        "As you can see, there are a lot of leads generated in the initial stage (top) but only a few of them come out as paying customers from the bottom. In the middle stage, you need to nurture the potential leads well (i.e. educating the leads about the product, constantly communicating etc. ) in order to get a higher lead conversion.\n",
        "\n",
        " \n",
        "\n",
        "X Education has appointed you to help them select the most promising leads, i.e. the leads that are most likely to convert into paying customers. The company requires you to build a model wherein you need to assign a lead score to each of the leads such that the customers with a higher lead score have a higher conversion chance and the customers with a lower lead score have a lower conversion chance. The CEO, in particular, has given a ballpark of the target lead conversion rate to be around 80%."
      ],
      "metadata": {
        "id": "P9qL2I0-aHZe"
      }
    },
    {
      "cell_type": "markdown",
      "source": [
        "<b>Strategy:</b>\n",
        "1. Data understanding</br>\n",
        "    1.1 Loading dataset and describing them </br>\n",
        "    1.2 Dropping columns having higher percentage of missing values</br>\n",
        "    1.3 Data Type correction</br>\n",
        "2. Data formatting</br>\n",
        "    2.1 Data formatting</br>\n",
        "3. Data cleaning</br>\n",
        "    3.1 Handling missing data</br>\n",
        "    3.2 Identifying outliers</br>\n",
        "    3.3 Handling outliers</br> \n",
        "    3.4 Checking for data issues </br>\n",
        "    3.5 Data Imbalance Ratio\n",
        "4. Data Analysis</br>\n",
        "    4.1 Univariate Analysis</br>\n",
        "    4.2 Bivariate Analysis</br>\n",
        "    4.3 Multivariate Analysis</br>"
      ],
      "metadata": {
        "id": "M9yYSTLdaSco"
      }
    },
    {
      "cell_type": "code",
      "source": [
        "#Importing libraries\n",
        "import numpy as np\n",
        "import pandas as pd\n",
        "\n",
        "#visualization\n",
        "import seaborn as sns\n",
        "import matplotlib.pyplot as plt\n",
        "\n",
        "#ignore warnings\n",
        "import warnings\n",
        "warnings.filterwarnings('ignore')\n",
        "\n",
        "#train and test split\n",
        "from sklearn.model_selection import train_test_split\n",
        "\n",
        "#Standardizing\n",
        "from sklearn.preprocessing import StandardScaler\n",
        "\n",
        "#LogisticRegression\n",
        "import statsmodels.api as sm\n",
        "from sklearn.linear_model import LogisticRegression\n",
        "from sklearn.feature_selection import RFE\n",
        "\n",
        "#Metrics\n",
        "from sklearn import metrics\n",
        "# Check for the VIF values of the feature variables. \n",
        "from statsmodels.stats.outliers_influence import variance_inflation_factor\n",
        "\n",
        "#display settings\n",
        "pd.set_option('max_columns',None) #pd.set_option('display.max_columns',None)"
      ],
      "metadata": {
        "id": "O--2mcmCaQTD"
      },
      "execution_count": 2,
      "outputs": []
    },
    {
      "cell_type": "markdown",
      "source": [
        "### 1. Data Understanding"
      ],
      "metadata": {
        "id": "6CPMl9MDa4fH"
      }
    },
    {
      "cell_type": "code",
      "source": [
        "#Reading the data\n",
        "df = pd.read_csv('Leads.csv')\n",
        "df.head()"
      ],
      "metadata": {
        "colab": {
          "base_uri": "https://localhost:8080/",
          "height": 600
        },
        "id": "Q2BBVOuMa3Zz",
        "outputId": "1b77e95f-92ed-4783-fc61-9601497ab1b1"
      },
      "execution_count": 3,
      "outputs": [
        {
          "output_type": "execute_result",
          "data": {
            "text/plain": [
              "                            Prospect ID  Lead Number              Lead Origin  \\\n",
              "0  7927b2df-8bba-4d29-b9a2-b6e0beafe620       660737                      API   \n",
              "1  2a272436-5132-4136-86fa-dcc88c88f482       660728                      API   \n",
              "2  8cc8c611-a219-4f35-ad23-fdfd2656bd8a       660727  Landing Page Submission   \n",
              "3  0cc2df48-7cf4-4e39-9de9-19797f9b38cc       660719  Landing Page Submission   \n",
              "4  3256f628-e534-4826-9d63-4a8b88782852       660681  Landing Page Submission   \n",
              "\n",
              "      Lead Source Do Not Email Do Not Call  Converted  TotalVisits  \\\n",
              "0      Olark Chat           No          No          0          0.0   \n",
              "1  Organic Search           No          No          0          5.0   \n",
              "2  Direct Traffic           No          No          1          2.0   \n",
              "3  Direct Traffic           No          No          0          1.0   \n",
              "4          Google           No          No          1          2.0   \n",
              "\n",
              "   Total Time Spent on Website  Page Views Per Visit            Last Activity  \\\n",
              "0                            0                   0.0  Page Visited on Website   \n",
              "1                          674                   2.5             Email Opened   \n",
              "2                         1532                   2.0             Email Opened   \n",
              "3                          305                   1.0              Unreachable   \n",
              "4                         1428                   1.0        Converted to Lead   \n",
              "\n",
              "  Country           Specialization How did you hear about X Education  \\\n",
              "0     NaN                   Select                             Select   \n",
              "1   India                   Select                             Select   \n",
              "2   India  Business Administration                             Select   \n",
              "3   India    Media and Advertising                      Word Of Mouth   \n",
              "4   India                   Select                              Other   \n",
              "\n",
              "  What is your current occupation  \\\n",
              "0                      Unemployed   \n",
              "1                      Unemployed   \n",
              "2                         Student   \n",
              "3                      Unemployed   \n",
              "4                      Unemployed   \n",
              "\n",
              "  What matters most to you in choosing a course Search Magazine  \\\n",
              "0                       Better Career Prospects     No       No   \n",
              "1                       Better Career Prospects     No       No   \n",
              "2                       Better Career Prospects     No       No   \n",
              "3                       Better Career Prospects     No       No   \n",
              "4                       Better Career Prospects     No       No   \n",
              "\n",
              "  Newspaper Article X Education Forums Newspaper Digital Advertisement  \\\n",
              "0                No                 No        No                    No   \n",
              "1                No                 No        No                    No   \n",
              "2                No                 No        No                    No   \n",
              "3                No                 No        No                    No   \n",
              "4                No                 No        No                    No   \n",
              "\n",
              "  Through Recommendations Receive More Updates About Our Courses  \\\n",
              "0                      No                                     No   \n",
              "1                      No                                     No   \n",
              "2                      No                                     No   \n",
              "3                      No                                     No   \n",
              "4                      No                                     No   \n",
              "\n",
              "                                  Tags      Lead Quality  \\\n",
              "0          Interested in other courses  Low in Relevance   \n",
              "1                              Ringing               NaN   \n",
              "2  Will revert after reading the email          Might be   \n",
              "3                              Ringing          Not Sure   \n",
              "4  Will revert after reading the email          Might be   \n",
              "\n",
              "  Update me on Supply Chain Content Get updates on DM Content    Lead Profile  \\\n",
              "0                                No                        No          Select   \n",
              "1                                No                        No          Select   \n",
              "2                                No                        No  Potential Lead   \n",
              "3                                No                        No          Select   \n",
              "4                                No                        No          Select   \n",
              "\n",
              "     City Asymmetrique Activity Index Asymmetrique Profile Index  \\\n",
              "0  Select                   02.Medium                  02.Medium   \n",
              "1  Select                   02.Medium                  02.Medium   \n",
              "2  Mumbai                   02.Medium                    01.High   \n",
              "3  Mumbai                   02.Medium                    01.High   \n",
              "4  Mumbai                   02.Medium                    01.High   \n",
              "\n",
              "   Asymmetrique Activity Score  Asymmetrique Profile Score  \\\n",
              "0                         15.0                        15.0   \n",
              "1                         15.0                        15.0   \n",
              "2                         14.0                        20.0   \n",
              "3                         13.0                        17.0   \n",
              "4                         15.0                        18.0   \n",
              "\n",
              "  I agree to pay the amount through cheque  \\\n",
              "0                                       No   \n",
              "1                                       No   \n",
              "2                                       No   \n",
              "3                                       No   \n",
              "4                                       No   \n",
              "\n",
              "  A free copy of Mastering The Interview Last Notable Activity  \n",
              "0                                     No              Modified  \n",
              "1                                     No          Email Opened  \n",
              "2                                    Yes          Email Opened  \n",
              "3                                     No              Modified  \n",
              "4                                     No              Modified  "
            ],
            "text/html": [
              "\n",
              "  <div id=\"df-cb9ed815-26d8-408c-a267-1198a2adf44f\">\n",
              "    <div class=\"colab-df-container\">\n",
              "      <div>\n",
              "<style scoped>\n",
              "    .dataframe tbody tr th:only-of-type {\n",
              "        vertical-align: middle;\n",
              "    }\n",
              "\n",
              "    .dataframe tbody tr th {\n",
              "        vertical-align: top;\n",
              "    }\n",
              "\n",
              "    .dataframe thead th {\n",
              "        text-align: right;\n",
              "    }\n",
              "</style>\n",
              "<table border=\"1\" class=\"dataframe\">\n",
              "  <thead>\n",
              "    <tr style=\"text-align: right;\">\n",
              "      <th></th>\n",
              "      <th>Prospect ID</th>\n",
              "      <th>Lead Number</th>\n",
              "      <th>Lead Origin</th>\n",
              "      <th>Lead Source</th>\n",
              "      <th>Do Not Email</th>\n",
              "      <th>Do Not Call</th>\n",
              "      <th>Converted</th>\n",
              "      <th>TotalVisits</th>\n",
              "      <th>Total Time Spent on Website</th>\n",
              "      <th>Page Views Per Visit</th>\n",
              "      <th>Last Activity</th>\n",
              "      <th>Country</th>\n",
              "      <th>Specialization</th>\n",
              "      <th>How did you hear about X Education</th>\n",
              "      <th>What is your current occupation</th>\n",
              "      <th>What matters most to you in choosing a course</th>\n",
              "      <th>Search</th>\n",
              "      <th>Magazine</th>\n",
              "      <th>Newspaper Article</th>\n",
              "      <th>X Education Forums</th>\n",
              "      <th>Newspaper</th>\n",
              "      <th>Digital Advertisement</th>\n",
              "      <th>Through Recommendations</th>\n",
              "      <th>Receive More Updates About Our Courses</th>\n",
              "      <th>Tags</th>\n",
              "      <th>Lead Quality</th>\n",
              "      <th>Update me on Supply Chain Content</th>\n",
              "      <th>Get updates on DM Content</th>\n",
              "      <th>Lead Profile</th>\n",
              "      <th>City</th>\n",
              "      <th>Asymmetrique Activity Index</th>\n",
              "      <th>Asymmetrique Profile Index</th>\n",
              "      <th>Asymmetrique Activity Score</th>\n",
              "      <th>Asymmetrique Profile Score</th>\n",
              "      <th>I agree to pay the amount through cheque</th>\n",
              "      <th>A free copy of Mastering The Interview</th>\n",
              "      <th>Last Notable Activity</th>\n",
              "    </tr>\n",
              "  </thead>\n",
              "  <tbody>\n",
              "    <tr>\n",
              "      <th>0</th>\n",
              "      <td>7927b2df-8bba-4d29-b9a2-b6e0beafe620</td>\n",
              "      <td>660737</td>\n",
              "      <td>API</td>\n",
              "      <td>Olark Chat</td>\n",
              "      <td>No</td>\n",
              "      <td>No</td>\n",
              "      <td>0</td>\n",
              "      <td>0.0</td>\n",
              "      <td>0</td>\n",
              "      <td>0.0</td>\n",
              "      <td>Page Visited on Website</td>\n",
              "      <td>NaN</td>\n",
              "      <td>Select</td>\n",
              "      <td>Select</td>\n",
              "      <td>Unemployed</td>\n",
              "      <td>Better Career Prospects</td>\n",
              "      <td>No</td>\n",
              "      <td>No</td>\n",
              "      <td>No</td>\n",
              "      <td>No</td>\n",
              "      <td>No</td>\n",
              "      <td>No</td>\n",
              "      <td>No</td>\n",
              "      <td>No</td>\n",
              "      <td>Interested in other courses</td>\n",
              "      <td>Low in Relevance</td>\n",
              "      <td>No</td>\n",
              "      <td>No</td>\n",
              "      <td>Select</td>\n",
              "      <td>Select</td>\n",
              "      <td>02.Medium</td>\n",
              "      <td>02.Medium</td>\n",
              "      <td>15.0</td>\n",
              "      <td>15.0</td>\n",
              "      <td>No</td>\n",
              "      <td>No</td>\n",
              "      <td>Modified</td>\n",
              "    </tr>\n",
              "    <tr>\n",
              "      <th>1</th>\n",
              "      <td>2a272436-5132-4136-86fa-dcc88c88f482</td>\n",
              "      <td>660728</td>\n",
              "      <td>API</td>\n",
              "      <td>Organic Search</td>\n",
              "      <td>No</td>\n",
              "      <td>No</td>\n",
              "      <td>0</td>\n",
              "      <td>5.0</td>\n",
              "      <td>674</td>\n",
              "      <td>2.5</td>\n",
              "      <td>Email Opened</td>\n",
              "      <td>India</td>\n",
              "      <td>Select</td>\n",
              "      <td>Select</td>\n",
              "      <td>Unemployed</td>\n",
              "      <td>Better Career Prospects</td>\n",
              "      <td>No</td>\n",
              "      <td>No</td>\n",
              "      <td>No</td>\n",
              "      <td>No</td>\n",
              "      <td>No</td>\n",
              "      <td>No</td>\n",
              "      <td>No</td>\n",
              "      <td>No</td>\n",
              "      <td>Ringing</td>\n",
              "      <td>NaN</td>\n",
              "      <td>No</td>\n",
              "      <td>No</td>\n",
              "      <td>Select</td>\n",
              "      <td>Select</td>\n",
              "      <td>02.Medium</td>\n",
              "      <td>02.Medium</td>\n",
              "      <td>15.0</td>\n",
              "      <td>15.0</td>\n",
              "      <td>No</td>\n",
              "      <td>No</td>\n",
              "      <td>Email Opened</td>\n",
              "    </tr>\n",
              "    <tr>\n",
              "      <th>2</th>\n",
              "      <td>8cc8c611-a219-4f35-ad23-fdfd2656bd8a</td>\n",
              "      <td>660727</td>\n",
              "      <td>Landing Page Submission</td>\n",
              "      <td>Direct Traffic</td>\n",
              "      <td>No</td>\n",
              "      <td>No</td>\n",
              "      <td>1</td>\n",
              "      <td>2.0</td>\n",
              "      <td>1532</td>\n",
              "      <td>2.0</td>\n",
              "      <td>Email Opened</td>\n",
              "      <td>India</td>\n",
              "      <td>Business Administration</td>\n",
              "      <td>Select</td>\n",
              "      <td>Student</td>\n",
              "      <td>Better Career Prospects</td>\n",
              "      <td>No</td>\n",
              "      <td>No</td>\n",
              "      <td>No</td>\n",
              "      <td>No</td>\n",
              "      <td>No</td>\n",
              "      <td>No</td>\n",
              "      <td>No</td>\n",
              "      <td>No</td>\n",
              "      <td>Will revert after reading the email</td>\n",
              "      <td>Might be</td>\n",
              "      <td>No</td>\n",
              "      <td>No</td>\n",
              "      <td>Potential Lead</td>\n",
              "      <td>Mumbai</td>\n",
              "      <td>02.Medium</td>\n",
              "      <td>01.High</td>\n",
              "      <td>14.0</td>\n",
              "      <td>20.0</td>\n",
              "      <td>No</td>\n",
              "      <td>Yes</td>\n",
              "      <td>Email Opened</td>\n",
              "    </tr>\n",
              "    <tr>\n",
              "      <th>3</th>\n",
              "      <td>0cc2df48-7cf4-4e39-9de9-19797f9b38cc</td>\n",
              "      <td>660719</td>\n",
              "      <td>Landing Page Submission</td>\n",
              "      <td>Direct Traffic</td>\n",
              "      <td>No</td>\n",
              "      <td>No</td>\n",
              "      <td>0</td>\n",
              "      <td>1.0</td>\n",
              "      <td>305</td>\n",
              "      <td>1.0</td>\n",
              "      <td>Unreachable</td>\n",
              "      <td>India</td>\n",
              "      <td>Media and Advertising</td>\n",
              "      <td>Word Of Mouth</td>\n",
              "      <td>Unemployed</td>\n",
              "      <td>Better Career Prospects</td>\n",
              "      <td>No</td>\n",
              "      <td>No</td>\n",
              "      <td>No</td>\n",
              "      <td>No</td>\n",
              "      <td>No</td>\n",
              "      <td>No</td>\n",
              "      <td>No</td>\n",
              "      <td>No</td>\n",
              "      <td>Ringing</td>\n",
              "      <td>Not Sure</td>\n",
              "      <td>No</td>\n",
              "      <td>No</td>\n",
              "      <td>Select</td>\n",
              "      <td>Mumbai</td>\n",
              "      <td>02.Medium</td>\n",
              "      <td>01.High</td>\n",
              "      <td>13.0</td>\n",
              "      <td>17.0</td>\n",
              "      <td>No</td>\n",
              "      <td>No</td>\n",
              "      <td>Modified</td>\n",
              "    </tr>\n",
              "    <tr>\n",
              "      <th>4</th>\n",
              "      <td>3256f628-e534-4826-9d63-4a8b88782852</td>\n",
              "      <td>660681</td>\n",
              "      <td>Landing Page Submission</td>\n",
              "      <td>Google</td>\n",
              "      <td>No</td>\n",
              "      <td>No</td>\n",
              "      <td>1</td>\n",
              "      <td>2.0</td>\n",
              "      <td>1428</td>\n",
              "      <td>1.0</td>\n",
              "      <td>Converted to Lead</td>\n",
              "      <td>India</td>\n",
              "      <td>Select</td>\n",
              "      <td>Other</td>\n",
              "      <td>Unemployed</td>\n",
              "      <td>Better Career Prospects</td>\n",
              "      <td>No</td>\n",
              "      <td>No</td>\n",
              "      <td>No</td>\n",
              "      <td>No</td>\n",
              "      <td>No</td>\n",
              "      <td>No</td>\n",
              "      <td>No</td>\n",
              "      <td>No</td>\n",
              "      <td>Will revert after reading the email</td>\n",
              "      <td>Might be</td>\n",
              "      <td>No</td>\n",
              "      <td>No</td>\n",
              "      <td>Select</td>\n",
              "      <td>Mumbai</td>\n",
              "      <td>02.Medium</td>\n",
              "      <td>01.High</td>\n",
              "      <td>15.0</td>\n",
              "      <td>18.0</td>\n",
              "      <td>No</td>\n",
              "      <td>No</td>\n",
              "      <td>Modified</td>\n",
              "    </tr>\n",
              "  </tbody>\n",
              "</table>\n",
              "</div>\n",
              "      <button class=\"colab-df-convert\" onclick=\"convertToInteractive('df-cb9ed815-26d8-408c-a267-1198a2adf44f')\"\n",
              "              title=\"Convert this dataframe to an interactive table.\"\n",
              "              style=\"display:none;\">\n",
              "        \n",
              "  <svg xmlns=\"http://www.w3.org/2000/svg\" height=\"24px\"viewBox=\"0 0 24 24\"\n",
              "       width=\"24px\">\n",
              "    <path d=\"M0 0h24v24H0V0z\" fill=\"none\"/>\n",
              "    <path d=\"M18.56 5.44l.94 2.06.94-2.06 2.06-.94-2.06-.94-.94-2.06-.94 2.06-2.06.94zm-11 1L8.5 8.5l.94-2.06 2.06-.94-2.06-.94L8.5 2.5l-.94 2.06-2.06.94zm10 10l.94 2.06.94-2.06 2.06-.94-2.06-.94-.94-2.06-.94 2.06-2.06.94z\"/><path d=\"M17.41 7.96l-1.37-1.37c-.4-.4-.92-.59-1.43-.59-.52 0-1.04.2-1.43.59L10.3 9.45l-7.72 7.72c-.78.78-.78 2.05 0 2.83L4 21.41c.39.39.9.59 1.41.59.51 0 1.02-.2 1.41-.59l7.78-7.78 2.81-2.81c.8-.78.8-2.07 0-2.86zM5.41 20L4 18.59l7.72-7.72 1.47 1.35L5.41 20z\"/>\n",
              "  </svg>\n",
              "      </button>\n",
              "      \n",
              "  <style>\n",
              "    .colab-df-container {\n",
              "      display:flex;\n",
              "      flex-wrap:wrap;\n",
              "      gap: 12px;\n",
              "    }\n",
              "\n",
              "    .colab-df-convert {\n",
              "      background-color: #E8F0FE;\n",
              "      border: none;\n",
              "      border-radius: 50%;\n",
              "      cursor: pointer;\n",
              "      display: none;\n",
              "      fill: #1967D2;\n",
              "      height: 32px;\n",
              "      padding: 0 0 0 0;\n",
              "      width: 32px;\n",
              "    }\n",
              "\n",
              "    .colab-df-convert:hover {\n",
              "      background-color: #E2EBFA;\n",
              "      box-shadow: 0px 1px 2px rgba(60, 64, 67, 0.3), 0px 1px 3px 1px rgba(60, 64, 67, 0.15);\n",
              "      fill: #174EA6;\n",
              "    }\n",
              "\n",
              "    [theme=dark] .colab-df-convert {\n",
              "      background-color: #3B4455;\n",
              "      fill: #D2E3FC;\n",
              "    }\n",
              "\n",
              "    [theme=dark] .colab-df-convert:hover {\n",
              "      background-color: #434B5C;\n",
              "      box-shadow: 0px 1px 3px 1px rgba(0, 0, 0, 0.15);\n",
              "      filter: drop-shadow(0px 1px 2px rgba(0, 0, 0, 0.3));\n",
              "      fill: #FFFFFF;\n",
              "    }\n",
              "  </style>\n",
              "\n",
              "      <script>\n",
              "        const buttonEl =\n",
              "          document.querySelector('#df-cb9ed815-26d8-408c-a267-1198a2adf44f button.colab-df-convert');\n",
              "        buttonEl.style.display =\n",
              "          google.colab.kernel.accessAllowed ? 'block' : 'none';\n",
              "\n",
              "        async function convertToInteractive(key) {\n",
              "          const element = document.querySelector('#df-cb9ed815-26d8-408c-a267-1198a2adf44f');\n",
              "          const dataTable =\n",
              "            await google.colab.kernel.invokeFunction('convertToInteractive',\n",
              "                                                     [key], {});\n",
              "          if (!dataTable) return;\n",
              "\n",
              "          const docLinkHtml = 'Like what you see? Visit the ' +\n",
              "            '<a target=\"_blank\" href=https://colab.research.google.com/notebooks/data_table.ipynb>data table notebook</a>'\n",
              "            + ' to learn more about interactive tables.';\n",
              "          element.innerHTML = '';\n",
              "          dataTable['output_type'] = 'display_data';\n",
              "          await google.colab.output.renderOutput(dataTable, element);\n",
              "          const docLink = document.createElement('div');\n",
              "          docLink.innerHTML = docLinkHtml;\n",
              "          element.appendChild(docLink);\n",
              "        }\n",
              "      </script>\n",
              "    </div>\n",
              "  </div>\n",
              "  "
            ]
          },
          "metadata": {},
          "execution_count": 3
        }
      ]
    },
    {
      "cell_type": "code",
      "source": [
        "df.dtypes"
      ],
      "metadata": {
        "colab": {
          "base_uri": "https://localhost:8080/"
        },
        "id": "7gTQTffaddul",
        "outputId": "73edfbb3-21b5-4f89-bae1-66c7c9de9cc9"
      },
      "execution_count": 4,
      "outputs": [
        {
          "output_type": "execute_result",
          "data": {
            "text/plain": [
              "Prospect ID                                       object\n",
              "Lead Number                                        int64\n",
              "Lead Origin                                       object\n",
              "Lead Source                                       object\n",
              "Do Not Email                                      object\n",
              "Do Not Call                                       object\n",
              "Converted                                          int64\n",
              "TotalVisits                                      float64\n",
              "Total Time Spent on Website                        int64\n",
              "Page Views Per Visit                             float64\n",
              "Last Activity                                     object\n",
              "Country                                           object\n",
              "Specialization                                    object\n",
              "How did you hear about X Education                object\n",
              "What is your current occupation                   object\n",
              "What matters most to you in choosing a course     object\n",
              "Search                                            object\n",
              "Magazine                                          object\n",
              "Newspaper Article                                 object\n",
              "X Education Forums                                object\n",
              "Newspaper                                         object\n",
              "Digital Advertisement                             object\n",
              "Through Recommendations                           object\n",
              "Receive More Updates About Our Courses            object\n",
              "Tags                                              object\n",
              "Lead Quality                                      object\n",
              "Update me on Supply Chain Content                 object\n",
              "Get updates on DM Content                         object\n",
              "Lead Profile                                      object\n",
              "City                                              object\n",
              "Asymmetrique Activity Index                       object\n",
              "Asymmetrique Profile Index                        object\n",
              "Asymmetrique Activity Score                      float64\n",
              "Asymmetrique Profile Score                       float64\n",
              "I agree to pay the amount through cheque          object\n",
              "A free copy of Mastering The Interview            object\n",
              "Last Notable Activity                             object\n",
              "dtype: object"
            ]
          },
          "metadata": {},
          "execution_count": 4
        }
      ]
    },
    {
      "cell_type": "code",
      "source": [
        "for i in df.select_dtypes(include='object'):\n",
        "  print(df[i].value_counts(normalize=True))"
      ],
      "metadata": {
        "colab": {
          "base_uri": "https://localhost:8080/"
        },
        "id": "rnCwfJI9dmqS",
        "outputId": "1ed730e3-8b21-48a3-8add-2653f2295a6a"
      },
      "execution_count": 5,
      "outputs": [
        {
          "output_type": "stream",
          "name": "stdout",
          "text": [
            "7927b2df-8bba-4d29-b9a2-b6e0beafe620    0.000108\n",
            "22e9d4ef-d294-4ebf-81c7-7c7a1105aeea    0.000108\n",
            "46befc49-253a-419b-abea-2fd978d2e2b1    0.000108\n",
            "9d35a2c2-09d8-439f-9875-0e8bbf267f5a    0.000108\n",
            "f0de9371-4dc2-48c2-9785-a08d6fc4fcb5    0.000108\n",
            "                                          ...   \n",
            "ff1f7582-cb7b-4b94-9cdc-3d0d0afdd9a3    0.000108\n",
            "644099a2-3da4-4d23-9546-7676340a372b    0.000108\n",
            "2a093175-415b-4321-9e69-ed8d9df65a3c    0.000108\n",
            "c66249a3-8500-4c66-a511-312d914573de    0.000108\n",
            "571b5c8e-a5b2-4d57-8574-f2ffb06fdeff    0.000108\n",
            "Name: Prospect ID, Length: 9240, dtype: float64\n",
            "Landing Page Submission    0.528788\n",
            "API                        0.387446\n",
            "Lead Add Form              0.077706\n",
            "Lead Import                0.005952\n",
            "Quick Add Form             0.000108\n",
            "Name: Lead Origin, dtype: float64\n",
            "Google               0.311604\n",
            "Direct Traffic       0.276293\n",
            "Olark Chat           0.190678\n",
            "Organic Search       0.125380\n",
            "Reference            0.058018\n",
            "Welingak Website     0.015428\n",
            "Referral Sites       0.013581\n",
            "Facebook             0.005976\n",
            "bing                 0.000652\n",
            "google               0.000543\n",
            "Click2call           0.000435\n",
            "Press_Release        0.000217\n",
            "Social Media         0.000217\n",
            "Live Chat            0.000217\n",
            "youtubechannel       0.000109\n",
            "testone              0.000109\n",
            "Pay per Click Ads    0.000109\n",
            "welearnblog_Home     0.000109\n",
            "WeLearn              0.000109\n",
            "blog                 0.000109\n",
            "NC_EDM               0.000109\n",
            "Name: Lead Source, dtype: float64\n",
            "No     0.920563\n",
            "Yes    0.079437\n",
            "Name: Do Not Email, dtype: float64\n",
            "No     0.999784\n",
            "Yes    0.000216\n",
            "Name: Do Not Call, dtype: float64\n",
            "Email Opened                    0.376163\n",
            "SMS Sent                        0.300427\n",
            "Olark Chat Conversation         0.106490\n",
            "Page Visited on Website         0.070045\n",
            "Converted to Lead               0.046843\n",
            "Email Bounced                   0.035679\n",
            "Email Link Clicked              0.029222\n",
            "Form Submitted on Website       0.012696\n",
            "Unreachable                     0.010178\n",
            "Unsubscribed                    0.006676\n",
            "Had a Phone Conversation        0.003283\n",
            "Approached upfront              0.000985\n",
            "View in browser link Clicked    0.000657\n",
            "Email Received                  0.000219\n",
            "Email Marked Spam               0.000219\n",
            "Visited Booth in Tradeshow      0.000109\n",
            "Resubscribed to emails          0.000109\n",
            "Name: Last Activity, dtype: float64\n",
            "India                   0.957663\n",
            "United States           0.010178\n",
            "United Arab Emirates    0.007818\n",
            "Singapore               0.003540\n",
            "Saudi Arabia            0.003098\n",
            "United Kingdom          0.002213\n",
            "Australia               0.001918\n",
            "Qatar                   0.001475\n",
            "Hong Kong               0.001033\n",
            "Bahrain                 0.001033\n",
            "Oman                    0.000885\n",
            "France                  0.000885\n",
            "unknown                 0.000738\n",
            "South Africa            0.000590\n",
            "Nigeria                 0.000590\n",
            "Germany                 0.000590\n",
            "Kuwait                  0.000590\n",
            "Canada                  0.000590\n",
            "Sweden                  0.000443\n",
            "China                   0.000295\n",
            "Asia/Pacific Region     0.000295\n",
            "Uganda                  0.000295\n",
            "Bangladesh              0.000295\n",
            "Italy                   0.000295\n",
            "Belgium                 0.000295\n",
            "Netherlands             0.000295\n",
            "Ghana                   0.000295\n",
            "Philippines             0.000295\n",
            "Russia                  0.000148\n",
            "Switzerland             0.000148\n",
            "Vietnam                 0.000148\n",
            "Denmark                 0.000148\n",
            "Tanzania                0.000148\n",
            "Liberia                 0.000148\n",
            "Malaysia                0.000148\n",
            "Kenya                   0.000148\n",
            "Sri Lanka               0.000148\n",
            "Indonesia               0.000148\n",
            "Name: Country, dtype: float64\n",
            "Select                               0.248911\n",
            "Finance Management                   0.125096\n",
            "Human Resource Management            0.108690\n",
            "Marketing Management                 0.107408\n",
            "Operations Management                0.064471\n",
            "Business Administration              0.051653\n",
            "IT Projects Management               0.046911\n",
            "Supply Chain Management              0.044732\n",
            "Banking, Investment And Insurance    0.043322\n",
            "Travel and Tourism                   0.026019\n",
            "Media and Advertising                0.026019\n",
            "International Business               0.022815\n",
            "Healthcare Management                0.020379\n",
            "Hospitality Management               0.014612\n",
            "E-COMMERCE                           0.014355\n",
            "Retail Management                    0.012817\n",
            "Rural and Agribusiness               0.009357\n",
            "E-Business                           0.007306\n",
            "Services Excellence                  0.005127\n",
            "Name: Specialization, dtype: float64\n",
            "Select                   0.717048\n",
            "Online Search            0.114887\n",
            "Word Of Mouth            0.049481\n",
            "Student of SomeSchool    0.044078\n",
            "Other                    0.026447\n",
            "Multiple Sources         0.021612\n",
            "Advertisements           0.009953\n",
            "Social Media             0.009527\n",
            "Email                    0.003697\n",
            "SMS                      0.003270\n",
            "Name: How did you hear about X Education, dtype: float64\n",
            "Unemployed              0.854962\n",
            "Working Professional    0.107786\n",
            "Student                 0.032061\n",
            "Other                   0.002443\n",
            "Housewife               0.001527\n",
            "Businessman             0.001221\n",
            "Name: What is your current occupation, dtype: float64\n",
            "Better Career Prospects      0.999541\n",
            "Flexibility & Convenience    0.000306\n",
            "Other                        0.000153\n",
            "Name: What matters most to you in choosing a course, dtype: float64\n",
            "No     0.998485\n",
            "Yes    0.001515\n",
            "Name: Search, dtype: float64\n",
            "No    1.0\n",
            "Name: Magazine, dtype: float64\n",
            "No     0.999784\n",
            "Yes    0.000216\n",
            "Name: Newspaper Article, dtype: float64\n",
            "No     0.999892\n",
            "Yes    0.000108\n",
            "Name: X Education Forums, dtype: float64\n",
            "No     0.999892\n",
            "Yes    0.000108\n",
            "Name: Newspaper, dtype: float64\n",
            "No     0.999567\n",
            "Yes    0.000433\n",
            "Name: Digital Advertisement, dtype: float64\n",
            "No     0.999242\n",
            "Yes    0.000758\n",
            "Name: Through Recommendations, dtype: float64\n",
            "No    1.0\n",
            "Name: Receive More Updates About Our Courses, dtype: float64\n",
            "Will revert after reading the email                  0.351962\n",
            "Ringing                                              0.204349\n",
            "Interested in other courses                          0.087141\n",
            "Already a student                                    0.078988\n",
            "Closed by Horizzon                                   0.060812\n",
            "switched off                                         0.040768\n",
            "Busy                                                 0.031595\n",
            "Lost to EINS                                         0.029727\n",
            "Not doing further education                          0.024631\n",
            "Interested  in full time MBA                         0.019874\n",
            "Graduation in progress                               0.018855\n",
            "invalid number                                       0.014099\n",
            "Diploma holder (Not Eligible)                        0.010702\n",
            "wrong number given                                   0.007984\n",
            "opp hangup                                           0.005606\n",
            "number not provided                                  0.004586\n",
            "in touch with EINS                                   0.002038\n",
            "Lost to Others                                       0.001189\n",
            "Still Thinking                                       0.001019\n",
            "Want to take admission but has financial problems    0.001019\n",
            "In confusion whether part time or DLP                0.000849\n",
            "Interested in Next batch                             0.000849\n",
            "Lateral student                                      0.000510\n",
            "Shall take in the next coming month                  0.000340\n",
            "University not recognized                            0.000340\n",
            "Recognition issue (DEC approval)                     0.000170\n",
            "Name: Tags, dtype: float64\n",
            "Might be             0.348759\n",
            "Not Sure             0.244131\n",
            "High in Relevance    0.142410\n",
            "Worst                0.134362\n",
            "Low in Relevance     0.130338\n",
            "Name: Lead Quality, dtype: float64\n",
            "No    1.0\n",
            "Name: Update me on Supply Chain Content, dtype: float64\n",
            "No    1.0\n",
            "Name: Get updates on DM Content, dtype: float64\n",
            "Select                         0.634819\n",
            "Potential Lead                 0.246976\n",
            "Other Leads                    0.074567\n",
            "Student of SomeSchool          0.036901\n",
            "Lateral Student                0.003675\n",
            "Dual Specialization Student    0.003062\n",
            "Name: Lead Profile, dtype: float64\n",
            "Mumbai                         0.412020\n",
            "Select                         0.287596\n",
            "Thane & Outskirts              0.096164\n",
            "Other Cities                   0.087724\n",
            "Other Cities of Maharashtra    0.058440\n",
            "Other Metro Cities             0.048593\n",
            "Tier II Cities                 0.009463\n",
            "Name: City, dtype: float64\n",
            "02.Medium    0.764436\n",
            "01.High      0.163481\n",
            "03.Low       0.072083\n",
            "Name: Asymmetrique Activity Index, dtype: float64\n",
            "02.Medium    0.555157\n",
            "01.High      0.438670\n",
            "03.Low       0.006173\n",
            "Name: Asymmetrique Profile Index, dtype: float64\n",
            "No    1.0\n",
            "Name: I agree to pay the amount through cheque, dtype: float64\n",
            "No     0.687446\n",
            "Yes    0.312554\n",
            "Name: A free copy of Mastering The Interview, dtype: float64\n",
            "Modified                        0.368723\n",
            "Email Opened                    0.305952\n",
            "SMS Sent                        0.235065\n",
            "Page Visited on Website         0.034416\n",
            "Olark Chat Conversation         0.019805\n",
            "Email Link Clicked              0.018723\n",
            "Email Bounced                   0.006494\n",
            "Unsubscribed                    0.005087\n",
            "Unreachable                     0.003463\n",
            "Had a Phone Conversation        0.001515\n",
            "Email Marked Spam               0.000216\n",
            "Approached upfront              0.000108\n",
            "Resubscribed to emails          0.000108\n",
            "View in browser link Clicked    0.000108\n",
            "Form Submitted on Website       0.000108\n",
            "Email Received                  0.000108\n",
            "Name: Last Notable Activity, dtype: float64\n"
          ]
        }
      ]
    },
    {
      "cell_type": "code",
      "source": [
        "#columns having select as value instead of null\n",
        "cols_to_replace = ['Country','Specialization','Get updates on DM Content','Lead Profile','How did you hear about X Education','City']\n",
        "for i in cols_to_replace:\n",
        "  df[i] = df[i].replace('Select',np.NaN)"
      ],
      "metadata": {
        "id": "uyCX6L6id68q"
      },
      "execution_count": 6,
      "outputs": []
    },
    {
      "cell_type": "code",
      "source": [
        "df.isnull().mean().sort_values(ascending=False)"
      ],
      "metadata": {
        "colab": {
          "base_uri": "https://localhost:8080/"
        },
        "id": "Vx5AbaWbe2rl",
        "outputId": "9ec5d55c-658a-400f-8c6e-e048fc96c878"
      },
      "execution_count": 7,
      "outputs": [
        {
          "output_type": "execute_result",
          "data": {
            "text/plain": [
              "How did you hear about X Education               0.784632\n",
              "Lead Profile                                     0.741883\n",
              "Lead Quality                                     0.515909\n",
              "Asymmetrique Profile Score                       0.456494\n",
              "Asymmetrique Activity Score                      0.456494\n",
              "Asymmetrique Activity Index                      0.456494\n",
              "Asymmetrique Profile Index                       0.456494\n",
              "City                                             0.397078\n",
              "Specialization                                   0.365801\n",
              "Tags                                             0.362879\n",
              "What matters most to you in choosing a course    0.293182\n",
              "What is your current occupation                  0.291126\n",
              "Country                                          0.266342\n",
              "Page Views Per Visit                             0.014827\n",
              "TotalVisits                                      0.014827\n",
              "Last Activity                                    0.011147\n",
              "Lead Source                                      0.003896\n",
              "Receive More Updates About Our Courses           0.000000\n",
              "I agree to pay the amount through cheque         0.000000\n",
              "Get updates on DM Content                        0.000000\n",
              "Update me on Supply Chain Content                0.000000\n",
              "A free copy of Mastering The Interview           0.000000\n",
              "Prospect ID                                      0.000000\n",
              "Newspaper Article                                0.000000\n",
              "Through Recommendations                          0.000000\n",
              "Digital Advertisement                            0.000000\n",
              "Newspaper                                        0.000000\n",
              "X Education Forums                               0.000000\n",
              "Lead Number                                      0.000000\n",
              "Magazine                                         0.000000\n",
              "Search                                           0.000000\n",
              "Total Time Spent on Website                      0.000000\n",
              "Converted                                        0.000000\n",
              "Do Not Call                                      0.000000\n",
              "Do Not Email                                     0.000000\n",
              "Lead Origin                                      0.000000\n",
              "Last Notable Activity                            0.000000\n",
              "dtype: float64"
            ]
          },
          "metadata": {},
          "execution_count": 7
        }
      ]
    },
    {
      "cell_type": "code",
      "source": [
        "#Dropping columns that have >40% missing values \n",
        "miss_col_df = df.isnull().mean().reset_index()\n",
        "miss_col_df[0] = miss_col_df[0]*100\n",
        "miss_col_df = miss_col_df.rename(columns={\"index\":\"Column Name\", 0:\"Missing Value(%)\"})\n",
        "miss_col_df = miss_col_df.sort_values(by=[\"Missing Value(%)\"],ascending=False)\n",
        "cols_to_drop = list(miss_col_df[miss_col_df[\"Missing Value(%)\"]>40][\"Column Name\"])\n",
        "cols_to_drop"
      ],
      "metadata": {
        "colab": {
          "base_uri": "https://localhost:8080/"
        },
        "id": "-Oc1HwNTfgoB",
        "outputId": "62ad947f-7d7f-47ac-bf98-f000e7a467e6"
      },
      "execution_count": 8,
      "outputs": [
        {
          "output_type": "execute_result",
          "data": {
            "text/plain": [
              "['How did you hear about X Education',\n",
              " 'Lead Profile',\n",
              " 'Lead Quality',\n",
              " 'Asymmetrique Profile Score',\n",
              " 'Asymmetrique Activity Score',\n",
              " 'Asymmetrique Activity Index',\n",
              " 'Asymmetrique Profile Index']"
            ]
          },
          "metadata": {},
          "execution_count": 8
        }
      ]
    },
    {
      "cell_type": "code",
      "source": [
        "df = df.drop(cols_to_drop, axis=1)\n",
        "100*df.isnull().mean().sort_values(ascending=False)"
      ],
      "metadata": {
        "colab": {
          "base_uri": "https://localhost:8080/"
        },
        "id": "xVgjqjCwguIo",
        "outputId": "9d85b29f-4a18-4d91-a251-99c00016132f"
      },
      "execution_count": 9,
      "outputs": [
        {
          "output_type": "execute_result",
          "data": {
            "text/plain": [
              "City                                             39.707792\n",
              "Specialization                                   36.580087\n",
              "Tags                                             36.287879\n",
              "What matters most to you in choosing a course    29.318182\n",
              "What is your current occupation                  29.112554\n",
              "Country                                          26.634199\n",
              "Page Views Per Visit                              1.482684\n",
              "TotalVisits                                       1.482684\n",
              "Last Activity                                     1.114719\n",
              "Lead Source                                       0.389610\n",
              "Through Recommendations                           0.000000\n",
              "Receive More Updates About Our Courses            0.000000\n",
              "Prospect ID                                       0.000000\n",
              "Newspaper                                         0.000000\n",
              "Update me on Supply Chain Content                 0.000000\n",
              "Get updates on DM Content                         0.000000\n",
              "I agree to pay the amount through cheque          0.000000\n",
              "A free copy of Mastering The Interview            0.000000\n",
              "Digital Advertisement                             0.000000\n",
              "Search                                            0.000000\n",
              "X Education Forums                                0.000000\n",
              "Newspaper Article                                 0.000000\n",
              "Magazine                                          0.000000\n",
              "Lead Number                                       0.000000\n",
              "Total Time Spent on Website                       0.000000\n",
              "Converted                                         0.000000\n",
              "Do Not Call                                       0.000000\n",
              "Do Not Email                                      0.000000\n",
              "Lead Origin                                       0.000000\n",
              "Last Notable Activity                             0.000000\n",
              "dtype: float64"
            ]
          },
          "metadata": {},
          "execution_count": 9
        }
      ]
    },
    {
      "cell_type": "code",
      "source": [
        "df[['Specialization','Tags','What matters most to you in choosing a course','What is your current occupation','Country','City','Page Views Per Visit','TotalVisits','Last Activity','Lead Source']].dtypes"
      ],
      "metadata": {
        "colab": {
          "base_uri": "https://localhost:8080/"
        },
        "id": "PRPzsumAg-qH",
        "outputId": "c412bcf7-f63d-4b5b-c713-22f928c7c4bc"
      },
      "execution_count": 10,
      "outputs": [
        {
          "output_type": "execute_result",
          "data": {
            "text/plain": [
              "Specialization                                    object\n",
              "Tags                                              object\n",
              "What matters most to you in choosing a course     object\n",
              "What is your current occupation                   object\n",
              "Country                                           object\n",
              "City                                              object\n",
              "Page Views Per Visit                             float64\n",
              "TotalVisits                                      float64\n",
              "Last Activity                                     object\n",
              "Lead Source                                       object\n",
              "dtype: object"
            ]
          },
          "metadata": {},
          "execution_count": 10
        }
      ]
    },
    {
      "cell_type": "code",
      "source": [
        "#For categorical columns having greater than 5% missing values, creating separate category\n",
        "for i in ['Specialization','Tags','What matters most to you in choosing a course','What is your current occupation','Country','City']:\n",
        "  df[i] = df[i].replace(np.NaN, 'Other')\n",
        "100*df.isnull().mean().sort_values(ascending=False)  "
      ],
      "metadata": {
        "colab": {
          "base_uri": "https://localhost:8080/"
        },
        "id": "2Rk3jTLHhrUp",
        "outputId": "97bb21b6-5e3d-47bb-c67b-d97aa1d82f23"
      },
      "execution_count": 11,
      "outputs": [
        {
          "output_type": "execute_result",
          "data": {
            "text/plain": [
              "TotalVisits                                      1.482684\n",
              "Page Views Per Visit                             1.482684\n",
              "Last Activity                                    1.114719\n",
              "Lead Source                                      0.389610\n",
              "Prospect ID                                      0.000000\n",
              "Newspaper                                        0.000000\n",
              "Digital Advertisement                            0.000000\n",
              "Through Recommendations                          0.000000\n",
              "Receive More Updates About Our Courses           0.000000\n",
              "Tags                                             0.000000\n",
              "Update me on Supply Chain Content                0.000000\n",
              "Newspaper Article                                0.000000\n",
              "Get updates on DM Content                        0.000000\n",
              "City                                             0.000000\n",
              "I agree to pay the amount through cheque         0.000000\n",
              "A free copy of Mastering The Interview           0.000000\n",
              "X Education Forums                               0.000000\n",
              "Search                                           0.000000\n",
              "Magazine                                         0.000000\n",
              "Lead Number                                      0.000000\n",
              "What matters most to you in choosing a course    0.000000\n",
              "What is your current occupation                  0.000000\n",
              "Specialization                                   0.000000\n",
              "Country                                          0.000000\n",
              "Total Time Spent on Website                      0.000000\n",
              "Converted                                        0.000000\n",
              "Do Not Call                                      0.000000\n",
              "Do Not Email                                     0.000000\n",
              "Lead Origin                                      0.000000\n",
              "Last Notable Activity                            0.000000\n",
              "dtype: float64"
            ]
          },
          "metadata": {},
          "execution_count": 11
        }
      ]
    },
    {
      "cell_type": "code",
      "source": [
        "#For numeric variables checking for outliers to choose between mean and median for replacement\n",
        "for i in ['Page Views Per Visit','TotalVisits']:\n",
        "  sns.boxplot(df[i])\n",
        "  plt.show()"
      ],
      "metadata": {
        "colab": {
          "base_uri": "https://localhost:8080/",
          "height": 541
        },
        "id": "zatMJxhWiPdU",
        "outputId": "88f2cbaa-d36a-45cb-87b9-fb67ec865a7b"
      },
      "execution_count": 12,
      "outputs": [
        {
          "output_type": "display_data",
          "data": {
            "text/plain": [
              "<Figure size 432x288 with 1 Axes>"
            ],
            "image/png": "[encoded data removed]"
          },
          "metadata": {
            "needs_background": "light"
          }
        },
        {
          "output_type": "display_data",
          "data": {
            "text/plain": [
              "<Figure size 432x288 with 1 Axes>"
            ],
            "image/png": "[encoded data removed]"
          },
          "metadata": {
            "needs_background": "light"
          }
        }
      ]
    },
    {
      "cell_type": "code",
      "source": [
        "#since both have outliers, replacing missing values with median\n",
        "for i in ['Page Views Per Visit','TotalVisits']:\n",
        "  df[i] = df[i].replace(np.NaN, df[i].median())\n",
        "  df[i] = df[i].astype(\"int64\")\n",
        "100*df.isnull().mean().sort_values(ascending=False)  "
      ],
      "metadata": {
        "colab": {
          "base_uri": "https://localhost:8080/"
        },
        "id": "eB2vdo5Aiiml",
        "outputId": "ccfee0e8-d7f5-4385-cb17-cc6a73792cce"
      },
      "execution_count": 13,
      "outputs": [
        {
          "output_type": "execute_result",
          "data": {
            "text/plain": [
              "Last Activity                                    1.114719\n",
              "Lead Source                                      0.389610\n",
              "Prospect ID                                      0.000000\n",
              "Magazine                                         0.000000\n",
              "A free copy of Mastering The Interview           0.000000\n",
              "I agree to pay the amount through cheque         0.000000\n",
              "City                                             0.000000\n",
              "Get updates on DM Content                        0.000000\n",
              "Update me on Supply Chain Content                0.000000\n",
              "Tags                                             0.000000\n",
              "Receive More Updates About Our Courses           0.000000\n",
              "Through Recommendations                          0.000000\n",
              "Digital Advertisement                            0.000000\n",
              "Newspaper                                        0.000000\n",
              "X Education Forums                               0.000000\n",
              "Newspaper Article                                0.000000\n",
              "Search                                           0.000000\n",
              "Lead Number                                      0.000000\n",
              "What matters most to you in choosing a course    0.000000\n",
              "What is your current occupation                  0.000000\n",
              "Specialization                                   0.000000\n",
              "Country                                          0.000000\n",
              "Page Views Per Visit                             0.000000\n",
              "Total Time Spent on Website                      0.000000\n",
              "TotalVisits                                      0.000000\n",
              "Converted                                        0.000000\n",
              "Do Not Call                                      0.000000\n",
              "Do Not Email                                     0.000000\n",
              "Lead Origin                                      0.000000\n",
              "Last Notable Activity                            0.000000\n",
              "dtype: float64"
            ]
          },
          "metadata": {},
          "execution_count": 13
        }
      ]
    },
    {
      "cell_type": "code",
      "source": [
        "#for remaining categorical variable with missing values, replacing with mode\n",
        "for i in ['Last Activity','Lead Source']:\n",
        "  df[i] = df[i].replace(np.NaN, df[i].mode()[0])\n",
        "100*df.isnull().mean().sort_values(ascending=False)  "
      ],
      "metadata": {
        "colab": {
          "base_uri": "https://localhost:8080/"
        },
        "id": "VxllhI6BixPU",
        "outputId": "d1fe0721-4e8a-4748-b897-0a7d84e76077"
      },
      "execution_count": 14,
      "outputs": [
        {
          "output_type": "execute_result",
          "data": {
            "text/plain": [
              "Prospect ID                                      0.0\n",
              "Lead Number                                      0.0\n",
              "A free copy of Mastering The Interview           0.0\n",
              "I agree to pay the amount through cheque         0.0\n",
              "City                                             0.0\n",
              "Get updates on DM Content                        0.0\n",
              "Update me on Supply Chain Content                0.0\n",
              "Tags                                             0.0\n",
              "Receive More Updates About Our Courses           0.0\n",
              "Through Recommendations                          0.0\n",
              "Digital Advertisement                            0.0\n",
              "Newspaper                                        0.0\n",
              "X Education Forums                               0.0\n",
              "Newspaper Article                                0.0\n",
              "Magazine                                         0.0\n",
              "Search                                           0.0\n",
              "What matters most to you in choosing a course    0.0\n",
              "What is your current occupation                  0.0\n",
              "Specialization                                   0.0\n",
              "Country                                          0.0\n",
              "Last Activity                                    0.0\n",
              "Page Views Per Visit                             0.0\n",
              "Total Time Spent on Website                      0.0\n",
              "TotalVisits                                      0.0\n",
              "Converted                                        0.0\n",
              "Do Not Call                                      0.0\n",
              "Do Not Email                                     0.0\n",
              "Lead Source                                      0.0\n",
              "Lead Origin                                      0.0\n",
              "Last Notable Activity                            0.0\n",
              "dtype: float64"
            ]
          },
          "metadata": {},
          "execution_count": 14
        }
      ]
    },
    {
      "cell_type": "markdown",
      "source": [
        "Observation: All Missing values are treated."
      ],
      "metadata": {
        "id": "JeIWd9CFjMHo"
      }
    },
    {
      "cell_type": "code",
      "source": [
        "#Checking for columns that have bias and are not significant for model building\n",
        "for i in df.select_dtypes(include=\"object\"):\n",
        "  print(df[i].value_counts(normalize=True))\n",
        "\n"
      ],
      "metadata": {
        "colab": {
          "base_uri": "https://localhost:8080/"
        },
        "id": "XOrXVtgvjJcB",
        "outputId": "9c536bdf-10b5-41c2-c9b2-b168e0cfde7f"
      },
      "execution_count": 15,
      "outputs": [
        {
          "output_type": "stream",
          "name": "stdout",
          "text": [
            "7927b2df-8bba-4d29-b9a2-b6e0beafe620    0.000108\n",
            "22e9d4ef-d294-4ebf-81c7-7c7a1105aeea    0.000108\n",
            "46befc49-253a-419b-abea-2fd978d2e2b1    0.000108\n",
            "9d35a2c2-09d8-439f-9875-0e8bbf267f5a    0.000108\n",
            "f0de9371-4dc2-48c2-9785-a08d6fc4fcb5    0.000108\n",
            "                                          ...   \n",
            "ff1f7582-cb7b-4b94-9cdc-3d0d0afdd9a3    0.000108\n",
            "644099a2-3da4-4d23-9546-7676340a372b    0.000108\n",
            "2a093175-415b-4321-9e69-ed8d9df65a3c    0.000108\n",
            "c66249a3-8500-4c66-a511-312d914573de    0.000108\n",
            "571b5c8e-a5b2-4d57-8574-f2ffb06fdeff    0.000108\n",
            "Name: Prospect ID, Length: 9240, dtype: float64\n",
            "Landing Page Submission    0.528788\n",
            "API                        0.387446\n",
            "Lead Add Form              0.077706\n",
            "Lead Import                0.005952\n",
            "Quick Add Form             0.000108\n",
            "Name: Lead Origin, dtype: float64\n",
            "Google               0.314286\n",
            "Direct Traffic       0.275216\n",
            "Olark Chat           0.189935\n",
            "Organic Search       0.124892\n",
            "Reference            0.057792\n",
            "Welingak Website     0.015368\n",
            "Referral Sites       0.013528\n",
            "Facebook             0.005952\n",
            "bing                 0.000649\n",
            "google               0.000541\n",
            "Click2call           0.000433\n",
            "Press_Release        0.000216\n",
            "Social Media         0.000216\n",
            "Live Chat            0.000216\n",
            "youtubechannel       0.000108\n",
            "testone              0.000108\n",
            "Pay per Click Ads    0.000108\n",
            "welearnblog_Home     0.000108\n",
            "WeLearn              0.000108\n",
            "blog                 0.000108\n",
            "NC_EDM               0.000108\n",
            "Name: Lead Source, dtype: float64\n",
            "No     0.920563\n",
            "Yes    0.079437\n",
            "Name: Do Not Email, dtype: float64\n",
            "No     0.999784\n",
            "Yes    0.000216\n",
            "Name: Do Not Call, dtype: float64\n",
            "Email Opened                    0.383117\n",
            "SMS Sent                        0.297078\n",
            "Olark Chat Conversation         0.105303\n",
            "Page Visited on Website         0.069264\n",
            "Converted to Lead               0.046320\n",
            "Email Bounced                   0.035281\n",
            "Email Link Clicked              0.028896\n",
            "Form Submitted on Website       0.012554\n",
            "Unreachable                     0.010065\n",
            "Unsubscribed                    0.006602\n",
            "Had a Phone Conversation        0.003247\n",
            "Approached upfront              0.000974\n",
            "View in browser link Clicked    0.000649\n",
            "Email Received                  0.000216\n",
            "Email Marked Spam               0.000216\n",
            "Visited Booth in Tradeshow      0.000108\n",
            "Resubscribed to emails          0.000108\n",
            "Name: Last Activity, dtype: float64\n",
            "India                   0.702597\n",
            "Other                   0.266342\n",
            "United States           0.007468\n",
            "United Arab Emirates    0.005736\n",
            "Singapore               0.002597\n",
            "Saudi Arabia            0.002273\n",
            "United Kingdom          0.001623\n",
            "Australia               0.001407\n",
            "Qatar                   0.001082\n",
            "Bahrain                 0.000758\n",
            "Hong Kong               0.000758\n",
            "Oman                    0.000649\n",
            "France                  0.000649\n",
            "unknown                 0.000541\n",
            "Kuwait                  0.000433\n",
            "South Africa            0.000433\n",
            "Canada                  0.000433\n",
            "Nigeria                 0.000433\n",
            "Germany                 0.000433\n",
            "Sweden                  0.000325\n",
            "Philippines             0.000216\n",
            "Uganda                  0.000216\n",
            "Italy                   0.000216\n",
            "Bangladesh              0.000216\n",
            "Netherlands             0.000216\n",
            "Asia/Pacific Region     0.000216\n",
            "China                   0.000216\n",
            "Belgium                 0.000216\n",
            "Ghana                   0.000216\n",
            "Kenya                   0.000108\n",
            "Sri Lanka               0.000108\n",
            "Tanzania                0.000108\n",
            "Malaysia                0.000108\n",
            "Liberia                 0.000108\n",
            "Switzerland             0.000108\n",
            "Denmark                 0.000108\n",
            "Russia                  0.000108\n",
            "Vietnam                 0.000108\n",
            "Indonesia               0.000108\n",
            "Name: Country, dtype: float64\n",
            "Other                                0.365801\n",
            "Finance Management                   0.105628\n",
            "Human Resource Management            0.091775\n",
            "Marketing Management                 0.090693\n",
            "Operations Management                0.054437\n",
            "Business Administration              0.043615\n",
            "IT Projects Management               0.039610\n",
            "Supply Chain Management              0.037771\n",
            "Banking, Investment And Insurance    0.036580\n",
            "Travel and Tourism                   0.021970\n",
            "Media and Advertising                0.021970\n",
            "International Business               0.019264\n",
            "Healthcare Management                0.017208\n",
            "Hospitality Management               0.012338\n",
            "E-COMMERCE                           0.012121\n",
            "Retail Management                    0.010823\n",
            "Rural and Agribusiness               0.007900\n",
            "E-Business                           0.006169\n",
            "Services Excellence                  0.004329\n",
            "Name: Specialization, dtype: float64\n",
            "Unemployed              0.606061\n",
            "Other                   0.292857\n",
            "Working Professional    0.076407\n",
            "Student                 0.022727\n",
            "Housewife               0.001082\n",
            "Businessman             0.000866\n",
            "Name: What is your current occupation, dtype: float64\n",
            "Better Career Prospects      0.706494\n",
            "Other                        0.293290\n",
            "Flexibility & Convenience    0.000216\n",
            "Name: What matters most to you in choosing a course, dtype: float64\n",
            "No     0.998485\n",
            "Yes    0.001515\n",
            "Name: Search, dtype: float64\n",
            "No    1.0\n",
            "Name: Magazine, dtype: float64\n",
            "No     0.999784\n",
            "Yes    0.000216\n",
            "Name: Newspaper Article, dtype: float64\n",
            "No     0.999892\n",
            "Yes    0.000108\n",
            "Name: X Education Forums, dtype: float64\n",
            "No     0.999892\n",
            "Yes    0.000108\n",
            "Name: Newspaper, dtype: float64\n",
            "No     0.999567\n",
            "Yes    0.000433\n",
            "Name: Digital Advertisement, dtype: float64\n",
            "No     0.999242\n",
            "Yes    0.000758\n",
            "Name: Through Recommendations, dtype: float64\n",
            "No    1.0\n",
            "Name: Receive More Updates About Our Courses, dtype: float64\n",
            "Other                                                0.362879\n",
            "Will revert after reading the email                  0.224242\n",
            "Ringing                                              0.130195\n",
            "Interested in other courses                          0.055519\n",
            "Already a student                                    0.050325\n",
            "Closed by Horizzon                                   0.038745\n",
            "switched off                                         0.025974\n",
            "Busy                                                 0.020130\n",
            "Lost to EINS                                         0.018939\n",
            "Not doing further education                          0.015693\n",
            "Interested  in full time MBA                         0.012662\n",
            "Graduation in progress                               0.012013\n",
            "invalid number                                       0.008983\n",
            "Diploma holder (Not Eligible)                        0.006818\n",
            "wrong number given                                   0.005087\n",
            "opp hangup                                           0.003571\n",
            "number not provided                                  0.002922\n",
            "in touch with EINS                                   0.001299\n",
            "Lost to Others                                       0.000758\n",
            "Still Thinking                                       0.000649\n",
            "Want to take admission but has financial problems    0.000649\n",
            "In confusion whether part time or DLP                0.000541\n",
            "Interested in Next batch                             0.000541\n",
            "Lateral student                                      0.000325\n",
            "Shall take in the next coming month                  0.000216\n",
            "University not recognized                            0.000216\n",
            "Recognition issue (DEC approval)                     0.000108\n",
            "Name: Tags, dtype: float64\n",
            "No    1.0\n",
            "Name: Update me on Supply Chain Content, dtype: float64\n",
            "No    1.0\n",
            "Name: Get updates on DM Content, dtype: float64\n",
            "Other                          0.397078\n",
            "Mumbai                         0.348701\n",
            "Thane & Outskirts              0.081385\n",
            "Other Cities                   0.074242\n",
            "Other Cities of Maharashtra    0.049459\n",
            "Other Metro Cities             0.041126\n",
            "Tier II Cities                 0.008009\n",
            "Name: City, dtype: float64\n",
            "No    1.0\n",
            "Name: I agree to pay the amount through cheque, dtype: float64\n",
            "No     0.687446\n",
            "Yes    0.312554\n",
            "Name: A free copy of Mastering The Interview, dtype: float64\n",
            "Modified                        0.368723\n",
            "Email Opened                    0.305952\n",
            "SMS Sent                        0.235065\n",
            "Page Visited on Website         0.034416\n",
            "Olark Chat Conversation         0.019805\n",
            "Email Link Clicked              0.018723\n",
            "Email Bounced                   0.006494\n",
            "Unsubscribed                    0.005087\n",
            "Unreachable                     0.003463\n",
            "Had a Phone Conversation        0.001515\n",
            "Email Marked Spam               0.000216\n",
            "Approached upfront              0.000108\n",
            "Resubscribed to emails          0.000108\n",
            "View in browser link Clicked    0.000108\n",
            "Form Submitted on Website       0.000108\n",
            "Email Received                  0.000108\n",
            "Name: Last Notable Activity, dtype: float64\n"
          ]
        }
      ]
    },
    {
      "cell_type": "code",
      "source": [
        "cols_to_rem = ['Do Not Email','Do Not Call','Update me on Supply Chain Content','Get updates on DM Content','Through Recommendations',\n",
        "               'Receive More Updates About Our Courses','I agree to pay the amount through cheque','A free copy of Mastering The Interview','Search','Magazine',\n",
        "               'Newspaper Article','X Education Forums','Newspaper','Digital Advertisement','Country']\n",
        "df.drop(cols_to_rem, axis=1, inplace=True)\n",
        "df.head()"
      ],
      "metadata": {
        "colab": {
          "base_uri": "https://localhost:8080/",
          "height": 600
        },
        "id": "wjoAUd-N6ALR",
        "outputId": "473e9247-ed12-4ef5-dd0e-2ab3b129e829"
      },
      "execution_count": 16,
      "outputs": [
        {
          "output_type": "execute_result",
          "data": {
            "text/plain": [
              "                            Prospect ID  Lead Number              Lead Origin  \\\n",
              "0  7927b2df-8bba-4d29-b9a2-b6e0beafe620       660737                      API   \n",
              "1  2a272436-5132-4136-86fa-dcc88c88f482       660728                      API   \n",
              "2  8cc8c611-a219-4f35-ad23-fdfd2656bd8a       660727  Landing Page Submission   \n",
              "3  0cc2df48-7cf4-4e39-9de9-19797f9b38cc       660719  Landing Page Submission   \n",
              "4  3256f628-e534-4826-9d63-4a8b88782852       660681  Landing Page Submission   \n",
              "\n",
              "      Lead Source  Converted  TotalVisits  Total Time Spent on Website  \\\n",
              "0      Olark Chat          0            0                            0   \n",
              "1  Organic Search          0            5                          674   \n",
              "2  Direct Traffic          1            2                         1532   \n",
              "3  Direct Traffic          0            1                          305   \n",
              "4          Google          1            2                         1428   \n",
              "\n",
              "   Page Views Per Visit            Last Activity           Specialization  \\\n",
              "0                     0  Page Visited on Website                    Other   \n",
              "1                     2             Email Opened                    Other   \n",
              "2                     2             Email Opened  Business Administration   \n",
              "3                     1              Unreachable    Media and Advertising   \n",
              "4                     1        Converted to Lead                    Other   \n",
              "\n",
              "  What is your current occupation  \\\n",
              "0                      Unemployed   \n",
              "1                      Unemployed   \n",
              "2                         Student   \n",
              "3                      Unemployed   \n",
              "4                      Unemployed   \n",
              "\n",
              "  What matters most to you in choosing a course  \\\n",
              "0                       Better Career Prospects   \n",
              "1                       Better Career Prospects   \n",
              "2                       Better Career Prospects   \n",
              "3                       Better Career Prospects   \n",
              "4                       Better Career Prospects   \n",
              "\n",
              "                                  Tags    City Last Notable Activity  \n",
              "0          Interested in other courses   Other              Modified  \n",
              "1                              Ringing   Other          Email Opened  \n",
              "2  Will revert after reading the email  Mumbai          Email Opened  \n",
              "3                              Ringing  Mumbai              Modified  \n",
              "4  Will revert after reading the email  Mumbai              Modified  "
            ],
            "text/html": [
              "\n",
              "  <div id=\"df-2cbc29fb-8a6d-41d9-bf60-6a0eebfff39d\">\n",
              "    <div class=\"colab-df-container\">\n",
              "      <div>\n",
              "<style scoped>\n",
              "    .dataframe tbody tr th:only-of-type {\n",
              "        vertical-align: middle;\n",
              "    }\n",
              "\n",
              "    .dataframe tbody tr th {\n",
              "        vertical-align: top;\n",
              "    }\n",
              "\n",
              "    .dataframe thead th {\n",
              "        text-align: right;\n",
              "    }\n",
              "</style>\n",
              "<table border=\"1\" class=\"dataframe\">\n",
              "  <thead>\n",
              "    <tr style=\"text-align: right;\">\n",
              "      <th></th>\n",
              "      <th>Prospect ID</th>\n",
              "      <th>Lead Number</th>\n",
              "      <th>Lead Origin</th>\n",
              "      <th>Lead Source</th>\n",
              "      <th>Converted</th>\n",
              "      <th>TotalVisits</th>\n",
              "      <th>Total Time Spent on Website</th>\n",
              "      <th>Page Views Per Visit</th>\n",
              "      <th>Last Activity</th>\n",
              "      <th>Specialization</th>\n",
              "      <th>What is your current occupation</th>\n",
              "      <th>What matters most to you in choosing a course</th>\n",
              "      <th>Tags</th>\n",
              "      <th>City</th>\n",
              "      <th>Last Notable Activity</th>\n",
              "    </tr>\n",
              "  </thead>\n",
              "  <tbody>\n",
              "    <tr>\n",
              "      <th>0</th>\n",
              "      <td>7927b2df-8bba-4d29-b9a2-b6e0beafe620</td>\n",
              "      <td>660737</td>\n",
              "      <td>API</td>\n",
              "      <td>Olark Chat</td>\n",
              "      <td>0</td>\n",
              "      <td>0</td>\n",
              "      <td>0</td>\n",
              "      <td>0</td>\n",
              "      <td>Page Visited on Website</td>\n",
              "      <td>Other</td>\n",
              "      <td>Unemployed</td>\n",
              "      <td>Better Career Prospects</td>\n",
              "      <td>Interested in other courses</td>\n",
              "      <td>Other</td>\n",
              "      <td>Modified</td>\n",
              "    </tr>\n",
              "    <tr>\n",
              "      <th>1</th>\n",
              "      <td>2a272436-5132-4136-86fa-dcc88c88f482</td>\n",
              "      <td>660728</td>\n",
              "      <td>API</td>\n",
              "      <td>Organic Search</td>\n",
              "      <td>0</td>\n",
              "      <td>5</td>\n",
              "      <td>674</td>\n",
              "      <td>2</td>\n",
              "      <td>Email Opened</td>\n",
              "      <td>Other</td>\n",
              "      <td>Unemployed</td>\n",
              "      <td>Better Career Prospects</td>\n",
              "      <td>Ringing</td>\n",
              "      <td>Other</td>\n",
              "      <td>Email Opened</td>\n",
              "    </tr>\n",
              "    <tr>\n",
              "      <th>2</th>\n",
              "      <td>8cc8c611-a219-4f35-ad23-fdfd2656bd8a</td>\n",
              "      <td>660727</td>\n",
              "      <td>Landing Page Submission</td>\n",
              "      <td>Direct Traffic</td>\n",
              "      <td>1</td>\n",
              "      <td>2</td>\n",
              "      <td>1532</td>\n",
              "      <td>2</td>\n",
              "      <td>Email Opened</td>\n",
              "      <td>Business Administration</td>\n",
              "      <td>Student</td>\n",
              "      <td>Better Career Prospects</td>\n",
              "      <td>Will revert after reading the email</td>\n",
              "      <td>Mumbai</td>\n",
              "      <td>Email Opened</td>\n",
              "    </tr>\n",
              "    <tr>\n",
              "      <th>3</th>\n",
              "      <td>0cc2df48-7cf4-4e39-9de9-19797f9b38cc</td>\n",
              "      <td>660719</td>\n",
              "      <td>Landing Page Submission</td>\n",
              "      <td>Direct Traffic</td>\n",
              "      <td>0</td>\n",
              "      <td>1</td>\n",
              "      <td>305</td>\n",
              "      <td>1</td>\n",
              "      <td>Unreachable</td>\n",
              "      <td>Media and Advertising</td>\n",
              "      <td>Unemployed</td>\n",
              "      <td>Better Career Prospects</td>\n",
              "      <td>Ringing</td>\n",
              "      <td>Mumbai</td>\n",
              "      <td>Modified</td>\n",
              "    </tr>\n",
              "    <tr>\n",
              "      <th>4</th>\n",
              "      <td>3256f628-e534-4826-9d63-4a8b88782852</td>\n",
              "      <td>660681</td>\n",
              "      <td>Landing Page Submission</td>\n",
              "      <td>Google</td>\n",
              "      <td>1</td>\n",
              "      <td>2</td>\n",
              "      <td>1428</td>\n",
              "      <td>1</td>\n",
              "      <td>Converted to Lead</td>\n",
              "      <td>Other</td>\n",
              "      <td>Unemployed</td>\n",
              "      <td>Better Career Prospects</td>\n",
              "      <td>Will revert after reading the email</td>\n",
              "      <td>Mumbai</td>\n",
              "      <td>Modified</td>\n",
              "    </tr>\n",
              "  </tbody>\n",
              "</table>\n",
              "</div>\n",
              "      <button class=\"colab-df-convert\" onclick=\"convertToInteractive('df-2cbc29fb-8a6d-41d9-bf60-6a0eebfff39d')\"\n",
              "              title=\"Convert this dataframe to an interactive table.\"\n",
              "              style=\"display:none;\">\n",
              "        \n",
              "  <svg xmlns=\"http://www.w3.org/2000/svg\" height=\"24px\"viewBox=\"0 0 24 24\"\n",
              "       width=\"24px\">\n",
              "    <path d=\"M0 0h24v24H0V0z\" fill=\"none\"/>\n",
              "    <path d=\"M18.56 5.44l.94 2.06.94-2.06 2.06-.94-2.06-.94-.94-2.06-.94 2.06-2.06.94zm-11 1L8.5 8.5l.94-2.06 2.06-.94-2.06-.94L8.5 2.5l-.94 2.06-2.06.94zm10 10l.94 2.06.94-2.06 2.06-.94-2.06-.94-.94-2.06-.94 2.06-2.06.94z\"/><path d=\"M17.41 7.96l-1.37-1.37c-.4-.4-.92-.59-1.43-.59-.52 0-1.04.2-1.43.59L10.3 9.45l-7.72 7.72c-.78.78-.78 2.05 0 2.83L4 21.41c.39.39.9.59 1.41.59.51 0 1.02-.2 1.41-.59l7.78-7.78 2.81-2.81c.8-.78.8-2.07 0-2.86zM5.41 20L4 18.59l7.72-7.72 1.47 1.35L5.41 20z\"/>\n",
              "  </svg>\n",
              "      </button>\n",
              "      \n",
              "  <style>\n",
              "    .colab-df-container {\n",
              "      display:flex;\n",
              "      flex-wrap:wrap;\n",
              "      gap: 12px;\n",
              "    }\n",
              "\n",
              "    .colab-df-convert {\n",
              "      background-color: #E8F0FE;\n",
              "      border: none;\n",
              "      border-radius: 50%;\n",
              "      cursor: pointer;\n",
              "      display: none;\n",
              "      fill: #1967D2;\n",
              "      height: 32px;\n",
              "      padding: 0 0 0 0;\n",
              "      width: 32px;\n",
              "    }\n",
              "\n",
              "    .colab-df-convert:hover {\n",
              "      background-color: #E2EBFA;\n",
              "      box-shadow: 0px 1px 2px rgba(60, 64, 67, 0.3), 0px 1px 3px 1px rgba(60, 64, 67, 0.15);\n",
              "      fill: #174EA6;\n",
              "    }\n",
              "\n",
              "    [theme=dark] .colab-df-convert {\n",
              "      background-color: #3B4455;\n",
              "      fill: #D2E3FC;\n",
              "    }\n",
              "\n",
              "    [theme=dark] .colab-df-convert:hover {\n",
              "      background-color: #434B5C;\n",
              "      box-shadow: 0px 1px 3px 1px rgba(0, 0, 0, 0.15);\n",
              "      filter: drop-shadow(0px 1px 2px rgba(0, 0, 0, 0.3));\n",
              "      fill: #FFFFFF;\n",
              "    }\n",
              "  </style>\n",
              "\n",
              "      <script>\n",
              "        const buttonEl =\n",
              "          document.querySelector('#df-2cbc29fb-8a6d-41d9-bf60-6a0eebfff39d button.colab-df-convert');\n",
              "        buttonEl.style.display =\n",
              "          google.colab.kernel.accessAllowed ? 'block' : 'none';\n",
              "\n",
              "        async function convertToInteractive(key) {\n",
              "          const element = document.querySelector('#df-2cbc29fb-8a6d-41d9-bf60-6a0eebfff39d');\n",
              "          const dataTable =\n",
              "            await google.colab.kernel.invokeFunction('convertToInteractive',\n",
              "                                                     [key], {});\n",
              "          if (!dataTable) return;\n",
              "\n",
              "          const docLinkHtml = 'Like what you see? Visit the ' +\n",
              "            '<a target=\"_blank\" href=https://colab.research.google.com/notebooks/data_table.ipynb>data table notebook</a>'\n",
              "            + ' to learn more about interactive tables.';\n",
              "          element.innerHTML = '';\n",
              "          dataTable['output_type'] = 'display_data';\n",
              "          await google.colab.output.renderOutput(dataTable, element);\n",
              "          const docLink = document.createElement('div');\n",
              "          docLink.innerHTML = docLinkHtml;\n",
              "          element.appendChild(docLink);\n",
              "        }\n",
              "      </script>\n",
              "    </div>\n",
              "  </div>\n",
              "  "
            ]
          },
          "metadata": {},
          "execution_count": 16
        }
      ]
    },
    {
      "cell_type": "code",
      "source": [
        "#Checking for spelling mistakes\n",
        "df['Lead Source'].value_counts()"
      ],
      "metadata": {
        "colab": {
          "base_uri": "https://localhost:8080/"
        },
        "id": "GW0cz1Bi60bp",
        "outputId": "4d992463-deb1-42d1-ca82-9691e587508b"
      },
      "execution_count": 17,
      "outputs": [
        {
          "output_type": "execute_result",
          "data": {
            "text/plain": [
              "Google               2904\n",
              "Direct Traffic       2543\n",
              "Olark Chat           1755\n",
              "Organic Search       1154\n",
              "Reference             534\n",
              "Welingak Website      142\n",
              "Referral Sites        125\n",
              "Facebook               55\n",
              "bing                    6\n",
              "google                  5\n",
              "Click2call              4\n",
              "Press_Release           2\n",
              "Social Media            2\n",
              "Live Chat               2\n",
              "youtubechannel          1\n",
              "testone                 1\n",
              "Pay per Click Ads       1\n",
              "welearnblog_Home        1\n",
              "WeLearn                 1\n",
              "blog                    1\n",
              "NC_EDM                  1\n",
              "Name: Lead Source, dtype: int64"
            ]
          },
          "metadata": {},
          "execution_count": 17
        }
      ]
    },
    {
      "cell_type": "code",
      "source": [
        "df['Lead Source'] = df['Lead Source'].replace('google','Google')\n",
        "df['Lead Source'] = df['Lead Source'].replace('welearnblog_Home','blog')\n",
        "df['Lead Source'] = df['Lead Source'].replace('WeLearn','blog')\n",
        "df['Lead Source'] = df['Lead Source'].replace('Facebook','Social Media')\n",
        "df['Lead Source'] = df['Lead Source'].replace('youtubechannel','Social Media')\n",
        "df['Lead Source'].value_counts()"
      ],
      "metadata": {
        "colab": {
          "base_uri": "https://localhost:8080/"
        },
        "id": "kaP329197BA3",
        "outputId": "fcab98da-14e1-4b04-af26-959434df600a"
      },
      "execution_count": 18,
      "outputs": [
        {
          "output_type": "execute_result",
          "data": {
            "text/plain": [
              "Google               2909\n",
              "Direct Traffic       2543\n",
              "Olark Chat           1755\n",
              "Organic Search       1154\n",
              "Reference             534\n",
              "Welingak Website      142\n",
              "Referral Sites        125\n",
              "Social Media           58\n",
              "bing                    6\n",
              "Click2call              4\n",
              "blog                    3\n",
              "Live Chat               2\n",
              "Press_Release           2\n",
              "Pay per Click Ads       1\n",
              "testone                 1\n",
              "NC_EDM                  1\n",
              "Name: Lead Source, dtype: int64"
            ]
          },
          "metadata": {},
          "execution_count": 18
        }
      ]
    },
    {
      "cell_type": "code",
      "source": [
        "df['Tags'].value_counts()"
      ],
      "metadata": {
        "colab": {
          "base_uri": "https://localhost:8080/"
        },
        "id": "HL1R1pNA8bG4",
        "outputId": "bc32c1d5-9706-4780-f457-f0f466820e75"
      },
      "execution_count": 19,
      "outputs": [
        {
          "output_type": "execute_result",
          "data": {
            "text/plain": [
              "Other                                                3353\n",
              "Will revert after reading the email                  2072\n",
              "Ringing                                              1203\n",
              "Interested in other courses                           513\n",
              "Already a student                                     465\n",
              "Closed by Horizzon                                    358\n",
              "switched off                                          240\n",
              "Busy                                                  186\n",
              "Lost to EINS                                          175\n",
              "Not doing further education                           145\n",
              "Interested  in full time MBA                          117\n",
              "Graduation in progress                                111\n",
              "invalid number                                         83\n",
              "Diploma holder (Not Eligible)                          63\n",
              "wrong number given                                     47\n",
              "opp hangup                                             33\n",
              "number not provided                                    27\n",
              "in touch with EINS                                     12\n",
              "Lost to Others                                          7\n",
              "Still Thinking                                          6\n",
              "Want to take admission but has financial problems       6\n",
              "In confusion whether part time or DLP                   5\n",
              "Interested in Next batch                                5\n",
              "Lateral student                                         3\n",
              "Shall take in the next coming month                     2\n",
              "University not recognized                               2\n",
              "Recognition issue (DEC approval)                        1\n",
              "Name: Tags, dtype: int64"
            ]
          },
          "metadata": {},
          "execution_count": 19
        }
      ]
    },
    {
      "cell_type": "code",
      "source": [
        "df['Tags'] = df['Tags'].replace('Ringing','Not reachable')\n",
        "df['Tags'] = df['Tags'].replace('switched off','Not reachable')\n",
        "df['Tags'] = df['Tags'].replace('Busy','Not reachable')\n",
        "df['Tags'] = df['Tags'].replace('opp hangup','Not reachable')\n",
        "df['Tags'] = df['Tags'].replace('invalid number','invalid or missing number')\n",
        "df['Tags'] = df['Tags'].replace('wrong number given','invalid or missing number')\n",
        "df['Tags'] = df['Tags'].replace('number not provided','invalid or missing number')\n",
        "df['Tags'] = df['Tags'].replace('University not recognized','Recognition issue (DEC approval)')\n",
        "df['Tags'] = df['Tags'].replace('Shall take in the next coming month','Next batch')\n",
        "df['Tags'] = df['Tags'].replace('Interested in Next batch','Next batch')\n",
        "df['Tags'] = df['Tags'].replace('Closed by Horizzon','Lost to Competitors')\n",
        "df['Tags'] = df['Tags'].replace('Lost to Others','Lost to Competitors')\n",
        "df['Tags'] = df['Tags'].replace('in touch with EINS','Lost to Competitors')\n",
        "df['Tags'] = df['Tags'].replace('Lost to EINS','Lost to Competitors')\n",
        "df['Tags'] = df['Tags'].replace('In confusion whether part time or DLP','Reply Awaited')\n",
        "df['Tags'] = df['Tags'].replace('Still Thinking','Reply Awaited')\n",
        "df['Tags'] = df['Tags'].replace('Will revert after reading the email','Reply Awaited')\n",
        "df['Tags'] = df['Tags'].replace('Want to take admission but has financial problems','Interested but financial issues')\n",
        "df['Tags'].value_counts()"
      ],
      "metadata": {
        "colab": {
          "base_uri": "https://localhost:8080/"
        },
        "id": "7l1Q-Cyj8e6u",
        "outputId": "774fbfb6-d94d-4d89-8017-f25d48f164d0"
      },
      "execution_count": 20,
      "outputs": [
        {
          "output_type": "execute_result",
          "data": {
            "text/plain": [
              "Other                               3353\n",
              "Reply Awaited                       2083\n",
              "Not reachable                       1662\n",
              "Lost to Competitors                  552\n",
              "Interested in other courses          513\n",
              "Already a student                    465\n",
              "invalid or missing number            157\n",
              "Not doing further education          145\n",
              "Interested  in full time MBA         117\n",
              "Graduation in progress               111\n",
              "Diploma holder (Not Eligible)         63\n",
              "Next batch                             7\n",
              "Interested but financial issues        6\n",
              "Lateral student                        3\n",
              "Recognition issue (DEC approval)       3\n",
              "Name: Tags, dtype: int64"
            ]
          },
          "metadata": {},
          "execution_count": 20
        }
      ]
    },
    {
      "cell_type": "code",
      "source": [
        "df.dtypes"
      ],
      "metadata": {
        "colab": {
          "base_uri": "https://localhost:8080/"
        },
        "id": "TcFaP_o7-ok5",
        "outputId": "704df650-5bc2-4994-c387-a74a45af3e57"
      },
      "execution_count": 21,
      "outputs": [
        {
          "output_type": "execute_result",
          "data": {
            "text/plain": [
              "Prospect ID                                      object\n",
              "Lead Number                                       int64\n",
              "Lead Origin                                      object\n",
              "Lead Source                                      object\n",
              "Converted                                         int64\n",
              "TotalVisits                                       int64\n",
              "Total Time Spent on Website                       int64\n",
              "Page Views Per Visit                              int64\n",
              "Last Activity                                    object\n",
              "Specialization                                   object\n",
              "What is your current occupation                  object\n",
              "What matters most to you in choosing a course    object\n",
              "Tags                                             object\n",
              "City                                             object\n",
              "Last Notable Activity                            object\n",
              "dtype: object"
            ]
          },
          "metadata": {},
          "execution_count": 21
        }
      ]
    },
    {
      "cell_type": "code",
      "source": [
        "for i in df.select_dtypes(include=\"int64\"):\n",
        "  sns.boxplot(df[i])\n",
        "  plt.show()"
      ],
      "metadata": {
        "colab": {
          "base_uri": "https://localhost:8080/",
          "height": 1000
        },
        "id": "A1OkkhiL-qzq",
        "outputId": "7195af87-5895-4341-cdc8-af33aac6e8ef"
      },
      "execution_count": 22,
      "outputs": [
        {
          "output_type": "display_data",
          "data": {
            "text/plain": [
              "<Figure size 432x288 with 1 Axes>"
            ],
            "image/png": "[encoded data removed]"
          },
          "metadata": {
            "needs_background": "light"
          }
        },
        {
          "output_type": "display_data",
          "data": {
            "text/plain": [
              "<Figure size 432x288 with 1 Axes>"
            ],
            "image/png": "[encoded data removed]"
          },
          "metadata": {
            "needs_background": "light"
          }
        },
        {
          "output_type": "display_data",
          "data": {
            "text/plain": [
              "<Figure size 432x288 with 1 Axes>"
            ],
            "image/png": "[encoded data removed]"
          },
          "metadata": {
            "needs_background": "light"
          }
        },
        {
          "output_type": "display_data",
          "data": {
            "text/plain": [
              "<Figure size 432x288 with 1 Axes>"
            ],
            "image/png": "[encoded data removed]"
          },
          "metadata": {
            "needs_background": "light"
          }
        },
        {
          "output_type": "display_data",
          "data": {
            "text/plain": [
              "<Figure size 432x288 with 1 Axes>"
            ],
            "image/png": "[encoded data removed]"
          },
          "metadata": {
            "needs_background": "light"
          }
        }
      ]
    },
    {
      "cell_type": "code",
      "source": [
        "100*len(df[df['TotalVisits'] > 10])/len(df)\n",
        "#3% outliers can be replaced"
      ],
      "metadata": {
        "colab": {
          "base_uri": "https://localhost:8080/"
        },
        "id": "0q4-d7I9_OLe",
        "outputId": "a6178471-8da6-48fd-a235-5dee586a2a2b"
      },
      "execution_count": 23,
      "outputs": [
        {
          "output_type": "execute_result",
          "data": {
            "text/plain": [
              "3.8203463203463204"
            ]
          },
          "metadata": {},
          "execution_count": 23
        }
      ]
    },
    {
      "cell_type": "code",
      "source": [
        "100*len(df[df['Page Views Per Visit'] > 10])/len(df)\n",
        "#0.5% outliers can be replaced"
      ],
      "metadata": {
        "colab": {
          "base_uri": "https://localhost:8080/"
        },
        "id": "7K8c4w_E_rPT",
        "outputId": "4d786c64-1a4a-4d41-8507-b1a77adb0273"
      },
      "execution_count": 24,
      "outputs": [
        {
          "output_type": "execute_result",
          "data": {
            "text/plain": [
              "0.5411255411255411"
            ]
          },
          "metadata": {},
          "execution_count": 24
        }
      ]
    },
    {
      "cell_type": "code",
      "source": [
        "for i in ['TotalVisits','Page Views Per Visit']:\n",
        "    Q1 = np.percentile(df[i],25)\n",
        "    Q3 = np.percentile(df[i],75)\n",
        "    IQR = Q3-Q1\n",
        "    LOWL = Q1-(1.5*IQR)\n",
        "    UPL = Q3+(1.5*IQR)\n",
        "    outliers = 0\n",
        "    outliers = len(df[df[i]<LOWL])\n",
        "    outliers = outliers + len(df[df[i]>UPL])\n",
        "    print('Column ',i,'has ', outliers,' outliers before outlier treatment')    \n",
        "    df[i] = np.where(df[i] > UPL,UPL,np.where(df[i] < LOWL,LOWL,df[i]))\n",
        "    outliers = len(df[df[i]<LOWL])\n",
        "    outliers = outliers + len(df[df[i]>UPL])\n",
        "    print('Column ',i,'has ', outliers,' outliers after outlier treatment')"
      ],
      "metadata": {
        "colab": {
          "base_uri": "https://localhost:8080/"
        },
        "id": "mn_FIV-9__uT",
        "outputId": "62790568-4d67-4e1f-ec38-c4033ead9a5d"
      },
      "execution_count": 25,
      "outputs": [
        {
          "output_type": "stream",
          "name": "stdout",
          "text": [
            "Column  TotalVisits has  267  outliers before outlier treatment\n",
            "Column  TotalVisits has  0  outliers after outlier treatment\n",
            "Column  Page Views Per Visit has  344  outliers before outlier treatment\n",
            "Column  Page Views Per Visit has  0  outliers after outlier treatment\n"
          ]
        }
      ]
    },
    {
      "cell_type": "code",
      "source": [
        "for i in df.select_dtypes(include=\"float64\"):\n",
        "  sns.boxplot(df[i])\n",
        "  plt.show()"
      ],
      "metadata": {
        "colab": {
          "base_uri": "https://localhost:8080/",
          "height": 541
        },
        "id": "pWO0Pb7AAKtU",
        "outputId": "eb6c9706-20d1-4cda-a7e6-0a4deaf4f123"
      },
      "execution_count": 26,
      "outputs": [
        {
          "output_type": "display_data",
          "data": {
            "text/plain": [
              "<Figure size 432x288 with 1 Axes>"
            ],
            "image/png": "[encoded data removed]"
          },
          "metadata": {
            "needs_background": "light"
          }
        },
        {
          "output_type": "display_data",
          "data": {
            "text/plain": [
              "<Figure size 432x288 with 1 Axes>"
            ],
            "image/png": "[encoded data removed]"
          },
          "metadata": {
            "needs_background": "light"
          }
        }
      ]
    },
    {
      "cell_type": "markdown",
      "source": [
        "EDA"
      ],
      "metadata": {
        "id": "wBKGILU_Dxva"
      }
    },
    {
      "cell_type": "code",
      "source": [
        "### Checking the Conversion Rate\n",
        "converted = (sum(df['Converted'])/len(df['Converted'].index))*100\n",
        "converted"
      ],
      "metadata": {
        "colab": {
          "base_uri": "https://localhost:8080/"
        },
        "id": "7H0kXkFhEGEI",
        "outputId": "e43d60fe-f895-41ad-9ab9-3ff02ee45bfe"
      },
      "execution_count": 27,
      "outputs": [
        {
          "output_type": "execute_result",
          "data": {
            "text/plain": [
              "38.53896103896104"
            ]
          },
          "metadata": {},
          "execution_count": 27
        }
      ]
    },
    {
      "cell_type": "code",
      "source": [
        "df_conv = df[df.Converted==1]\n",
        "df_nconv = df[df.Converted==0]"
      ],
      "metadata": {
        "id": "a2wzffw-ESQr"
      },
      "execution_count": 28,
      "outputs": []
    },
    {
      "cell_type": "code",
      "source": [
        "#functions to create visualization plots for univariate analysis\n",
        "def draw_distplot(cols):\n",
        "    for i in cols:\n",
        "        plt.figure(figsize=(15,5))\n",
        "        sns.distplot(df_conv[i], hist=False, color='r',label =\"Converted\")\n",
        "        sns.distplot(df_nconv[i], hist=False, color='b', label =\"Not Converted\")\n",
        "        plt.title(\"TARGET V/S \"+i, fontdict={'fontsize' : 12, 'fontweight' : 5, 'color' : 'Black'}) \n",
        "        plt.legend()\n",
        "        plt.show()"
      ],
      "metadata": {
        "id": "-V1j-nGLDxQr"
      },
      "execution_count": 29,
      "outputs": []
    },
    {
      "cell_type": "code",
      "source": [
        "draw_distplot(['Total Time Spent on Website','TotalVisits', 'Page Views Per Visit'])"
      ],
      "metadata": {
        "colab": {
          "base_uri": "https://localhost:8080/",
          "height": 1000
        },
        "id": "lyLKSo8kEe2i",
        "outputId": "7e282668-bcea-4e6d-abde-8daa385e7ea8"
      },
      "execution_count": 30,
      "outputs": [
        {
          "output_type": "display_data",
          "data": {
            "text/plain": [
              "<Figure size 1080x360 with 1 Axes>"
            ],
            "image/png": "[encoded data removed]"
          },
          "metadata": {
            "needs_background": "light"
          }
        },
        {
          "output_type": "display_data",
          "data": {
            "text/plain": [
              "<Figure size 1080x360 with 1 Axes>"
            ],
            "image/png": "[encoded data removed]"
          },
          "metadata": {
            "needs_background": "light"
          }
        },
        {
          "output_type": "display_data",
          "data": {
            "text/plain": [
              "<Figure size 1080x360 with 1 Axes>"
            ],
            "image/png": "[encoded data removed]"
          },
          "metadata": {
            "needs_background": "light"
          }
        }
      ]
    },
    {
      "cell_type": "code",
      "source": [
        "df.select_dtypes(include='object')"
      ],
      "metadata": {
        "colab": {
          "base_uri": "https://localhost:8080/",
          "height": 867
        },
        "id": "2Ht_l-f6JgZ3",
        "outputId": "df54c3f0-6209-4416-93b7-4161bc431e35"
      },
      "execution_count": 44,
      "outputs": [
        {
          "output_type": "execute_result",
          "data": {
            "text/plain": [
              "                               Prospect ID              Lead Origin  \\\n",
              "0     7927b2df-8bba-4d29-b9a2-b6e0beafe620                      API   \n",
              "1     2a272436-5132-4136-86fa-dcc88c88f482                      API   \n",
              "2     8cc8c611-a219-4f35-ad23-fdfd2656bd8a  Landing Page Submission   \n",
              "3     0cc2df48-7cf4-4e39-9de9-19797f9b38cc  Landing Page Submission   \n",
              "4     3256f628-e534-4826-9d63-4a8b88782852  Landing Page Submission   \n",
              "...                                    ...                      ...   \n",
              "9235  19d6451e-fcd6-407c-b83b-48e1af805ea9  Landing Page Submission   \n",
              "9236  82a7005b-7196-4d56-95ce-a79f937a158d  Landing Page Submission   \n",
              "9237  aac550fe-a586-452d-8d3c-f1b62c94e02c  Landing Page Submission   \n",
              "9238  5330a7d1-2f2b-4df4-85d6-64ca2f6b95b9  Landing Page Submission   \n",
              "9239  571b5c8e-a5b2-4d57-8574-f2ffb06fdeff  Landing Page Submission   \n",
              "\n",
              "         Lead Source            Last Activity             Specialization  \\\n",
              "0         Olark Chat  Page Visited on Website                      Other   \n",
              "1     Organic Search             Email Opened                      Other   \n",
              "2     Direct Traffic             Email Opened    Business Administration   \n",
              "3     Direct Traffic              Unreachable      Media and Advertising   \n",
              "4             Google        Converted to Lead                      Other   \n",
              "...              ...                      ...                        ...   \n",
              "9235  Direct Traffic        Email Marked Spam     IT Projects Management   \n",
              "9236  Direct Traffic                 SMS Sent      Media and Advertising   \n",
              "9237  Direct Traffic                 SMS Sent    Business Administration   \n",
              "9238          Google                 SMS Sent  Human Resource Management   \n",
              "9239  Direct Traffic                 SMS Sent    Supply Chain Management   \n",
              "\n",
              "     What is your current occupation  \\\n",
              "0                         Unemployed   \n",
              "1                         Unemployed   \n",
              "2                            Student   \n",
              "3                         Unemployed   \n",
              "4                         Unemployed   \n",
              "...                              ...   \n",
              "9235                      Unemployed   \n",
              "9236                      Unemployed   \n",
              "9237                      Unemployed   \n",
              "9238                           Other   \n",
              "9239                      Unemployed   \n",
              "\n",
              "     What matters most to you in choosing a course  \\\n",
              "0                          Better Career Prospects   \n",
              "1                          Better Career Prospects   \n",
              "2                          Better Career Prospects   \n",
              "3                          Better Career Prospects   \n",
              "4                          Better Career Prospects   \n",
              "...                                            ...   \n",
              "9235                       Better Career Prospects   \n",
              "9236                       Better Career Prospects   \n",
              "9237                       Better Career Prospects   \n",
              "9238                                         Other   \n",
              "9239                       Better Career Prospects   \n",
              "\n",
              "                             Tags                City Last Notable Activity  \n",
              "0     Interested in other courses               Other              Modified  \n",
              "1                   Not reachable               Other          Email Opened  \n",
              "2                   Reply Awaited              Mumbai          Email Opened  \n",
              "3                   Not reachable              Mumbai              Modified  \n",
              "4                   Reply Awaited              Mumbai              Modified  \n",
              "...                           ...                 ...                   ...  \n",
              "9235                Reply Awaited              Mumbai     Email Marked Spam  \n",
              "9236    invalid or missing number              Mumbai              SMS Sent  \n",
              "9237    invalid or missing number              Mumbai              SMS Sent  \n",
              "9238                        Other  Other Metro Cities              SMS Sent  \n",
              "9239                Reply Awaited        Other Cities              Modified  \n",
              "\n",
              "[9240 rows x 10 columns]"
            ],
            "text/html": [
              "\n",
              "  <div id=\"df-8e444bdc-6def-42ea-abef-a0867eaeff61\">\n",
              "    <div class=\"colab-df-container\">\n",
              "      <div>\n",
              "<style scoped>\n",
              "    .dataframe tbody tr th:only-of-type {\n",
              "        vertical-align: middle;\n",
              "    }\n",
              "\n",
              "    .dataframe tbody tr th {\n",
              "        vertical-align: top;\n",
              "    }\n",
              "\n",
              "    .dataframe thead th {\n",
              "        text-align: right;\n",
              "    }\n",
              "</style>\n",
              "<table border=\"1\" class=\"dataframe\">\n",
              "  <thead>\n",
              "    <tr style=\"text-align: right;\">\n",
              "      <th></th>\n",
              "      <th>Prospect ID</th>\n",
              "      <th>Lead Origin</th>\n",
              "      <th>Lead Source</th>\n",
              "      <th>Last Activity</th>\n",
              "      <th>Specialization</th>\n",
              "      <th>What is your current occupation</th>\n",
              "      <th>What matters most to you in choosing a course</th>\n",
              "      <th>Tags</th>\n",
              "      <th>City</th>\n",
              "      <th>Last Notable Activity</th>\n",
              "    </tr>\n",
              "  </thead>\n",
              "  <tbody>\n",
              "    <tr>\n",
              "      <th>0</th>\n",
              "      <td>7927b2df-8bba-4d29-b9a2-b6e0beafe620</td>\n",
              "      <td>API</td>\n",
              "      <td>Olark Chat</td>\n",
              "      <td>Page Visited on Website</td>\n",
              "      <td>Other</td>\n",
              "      <td>Unemployed</td>\n",
              "      <td>Better Career Prospects</td>\n",
              "      <td>Interested in other courses</td>\n",
              "      <td>Other</td>\n",
              "      <td>Modified</td>\n",
              "    </tr>\n",
              "    <tr>\n",
              "      <th>1</th>\n",
              "      <td>2a272436-5132-4136-86fa-dcc88c88f482</td>\n",
              "      <td>API</td>\n",
              "      <td>Organic Search</td>\n",
              "      <td>Email Opened</td>\n",
              "      <td>Other</td>\n",
              "      <td>Unemployed</td>\n",
              "      <td>Better Career Prospects</td>\n",
              "      <td>Not reachable</td>\n",
              "      <td>Other</td>\n",
              "      <td>Email Opened</td>\n",
              "    </tr>\n",
              "    <tr>\n",
              "      <th>2</th>\n",
              "      <td>8cc8c611-a219-4f35-ad23-fdfd2656bd8a</td>\n",
              "      <td>Landing Page Submission</td>\n",
              "      <td>Direct Traffic</td>\n",
              "      <td>Email Opened</td>\n",
              "      <td>Business Administration</td>\n",
              "      <td>Student</td>\n",
              "      <td>Better Career Prospects</td>\n",
              "      <td>Reply Awaited</td>\n",
              "      <td>Mumbai</td>\n",
              "      <td>Email Opened</td>\n",
              "    </tr>\n",
              "    <tr>\n",
              "      <th>3</th>\n",
              "      <td>0cc2df48-7cf4-4e39-9de9-19797f9b38cc</td>\n",
              "      <td>Landing Page Submission</td>\n",
              "      <td>Direct Traffic</td>\n",
              "      <td>Unreachable</td>\n",
              "      <td>Media and Advertising</td>\n",
              "      <td>Unemployed</td>\n",
              "      <td>Better Career Prospects</td>\n",
              "      <td>Not reachable</td>\n",
              "      <td>Mumbai</td>\n",
              "      <td>Modified</td>\n",
              "    </tr>\n",
              "    <tr>\n",
              "      <th>4</th>\n",
              "      <td>3256f628-e534-4826-9d63-4a8b88782852</td>\n",
              "      <td>Landing Page Submission</td>\n",
              "      <td>Google</td>\n",
              "      <td>Converted to Lead</td>\n",
              "      <td>Other</td>\n",
              "      <td>Unemployed</td>\n",
              "      <td>Better Career Prospects</td>\n",
              "      <td>Reply Awaited</td>\n",
              "      <td>Mumbai</td>\n",
              "      <td>Modified</td>\n",
              "    </tr>\n",
              "    <tr>\n",
              "      <th>...</th>\n",
              "      <td>...</td>\n",
              "      <td>...</td>\n",
              "      <td>...</td>\n",
              "      <td>...</td>\n",
              "      <td>...</td>\n",
              "      <td>...</td>\n",
              "      <td>...</td>\n",
              "      <td>...</td>\n",
              "      <td>...</td>\n",
              "      <td>...</td>\n",
              "    </tr>\n",
              "    <tr>\n",
              "      <th>9235</th>\n",
              "      <td>19d6451e-fcd6-407c-b83b-48e1af805ea9</td>\n",
              "      <td>Landing Page Submission</td>\n",
              "      <td>Direct Traffic</td>\n",
              "      <td>Email Marked Spam</td>\n",
              "      <td>IT Projects Management</td>\n",
              "      <td>Unemployed</td>\n",
              "      <td>Better Career Prospects</td>\n",
              "      <td>Reply Awaited</td>\n",
              "      <td>Mumbai</td>\n",
              "      <td>Email Marked Spam</td>\n",
              "    </tr>\n",
              "    <tr>\n",
              "      <th>9236</th>\n",
              "      <td>82a7005b-7196-4d56-95ce-a79f937a158d</td>\n",
              "      <td>Landing Page Submission</td>\n",
              "      <td>Direct Traffic</td>\n",
              "      <td>SMS Sent</td>\n",
              "      <td>Media and Advertising</td>\n",
              "      <td>Unemployed</td>\n",
              "      <td>Better Career Prospects</td>\n",
              "      <td>invalid or missing number</td>\n",
              "      <td>Mumbai</td>\n",
              "      <td>SMS Sent</td>\n",
              "    </tr>\n",
              "    <tr>\n",
              "      <th>9237</th>\n",
              "      <td>aac550fe-a586-452d-8d3c-f1b62c94e02c</td>\n",
              "      <td>Landing Page Submission</td>\n",
              "      <td>Direct Traffic</td>\n",
              "      <td>SMS Sent</td>\n",
              "      <td>Business Administration</td>\n",
              "      <td>Unemployed</td>\n",
              "      <td>Better Career Prospects</td>\n",
              "      <td>invalid or missing number</td>\n",
              "      <td>Mumbai</td>\n",
              "      <td>SMS Sent</td>\n",
              "    </tr>\n",
              "    <tr>\n",
              "      <th>9238</th>\n",
              "      <td>5330a7d1-2f2b-4df4-85d6-64ca2f6b95b9</td>\n",
              "      <td>Landing Page Submission</td>\n",
              "      <td>Google</td>\n",
              "      <td>SMS Sent</td>\n",
              "      <td>Human Resource Management</td>\n",
              "      <td>Other</td>\n",
              "      <td>Other</td>\n",
              "      <td>Other</td>\n",
              "      <td>Other Metro Cities</td>\n",
              "      <td>SMS Sent</td>\n",
              "    </tr>\n",
              "    <tr>\n",
              "      <th>9239</th>\n",
              "      <td>571b5c8e-a5b2-4d57-8574-f2ffb06fdeff</td>\n",
              "      <td>Landing Page Submission</td>\n",
              "      <td>Direct Traffic</td>\n",
              "      <td>SMS Sent</td>\n",
              "      <td>Supply Chain Management</td>\n",
              "      <td>Unemployed</td>\n",
              "      <td>Better Career Prospects</td>\n",
              "      <td>Reply Awaited</td>\n",
              "      <td>Other Cities</td>\n",
              "      <td>Modified</td>\n",
              "    </tr>\n",
              "  </tbody>\n",
              "</table>\n",
              "<p>9240 rows × 10 columns</p>\n",
              "</div>\n",
              "      <button class=\"colab-df-convert\" onclick=\"convertToInteractive('df-8e444bdc-6def-42ea-abef-a0867eaeff61')\"\n",
              "              title=\"Convert this dataframe to an interactive table.\"\n",
              "              style=\"display:none;\">\n",
              "        \n",
              "  <svg xmlns=\"http://www.w3.org/2000/svg\" height=\"24px\"viewBox=\"0 0 24 24\"\n",
              "       width=\"24px\">\n",
              "    <path d=\"M0 0h24v24H0V0z\" fill=\"none\"/>\n",
              "    <path d=\"M18.56 5.44l.94 2.06.94-2.06 2.06-.94-2.06-.94-.94-2.06-.94 2.06-2.06.94zm-11 1L8.5 8.5l.94-2.06 2.06-.94-2.06-.94L8.5 2.5l-.94 2.06-2.06.94zm10 10l.94 2.06.94-2.06 2.06-.94-2.06-.94-.94-2.06-.94 2.06-2.06.94z\"/><path d=\"M17.41 7.96l-1.37-1.37c-.4-.4-.92-.59-1.43-.59-.52 0-1.04.2-1.43.59L10.3 9.45l-7.72 7.72c-.78.78-.78 2.05 0 2.83L4 21.41c.39.39.9.59 1.41.59.51 0 1.02-.2 1.41-.59l7.78-7.78 2.81-2.81c.8-.78.8-2.07 0-2.86zM5.41 20L4 18.59l7.72-7.72 1.47 1.35L5.41 20z\"/>\n",
              "  </svg>\n",
              "      </button>\n",
              "      \n",
              "  <style>\n",
              "    .colab-df-container {\n",
              "      display:flex;\n",
              "      flex-wrap:wrap;\n",
              "      gap: 12px;\n",
              "    }\n",
              "\n",
              "    .colab-df-convert {\n",
              "      background-color: #E8F0FE;\n",
              "      border: none;\n",
              "      border-radius: 50%;\n",
              "      cursor: pointer;\n",
              "      display: none;\n",
              "      fill: #1967D2;\n",
              "      height: 32px;\n",
              "      padding: 0 0 0 0;\n",
              "      width: 32px;\n",
              "    }\n",
              "\n",
              "    .colab-df-convert:hover {\n",
              "      background-color: #E2EBFA;\n",
              "      box-shadow: 0px 1px 2px rgba(60, 64, 67, 0.3), 0px 1px 3px 1px rgba(60, 64, 67, 0.15);\n",
              "      fill: #174EA6;\n",
              "    }\n",
              "\n",
              "    [theme=dark] .colab-df-convert {\n",
              "      background-color: #3B4455;\n",
              "      fill: #D2E3FC;\n",
              "    }\n",
              "\n",
              "    [theme=dark] .colab-df-convert:hover {\n",
              "      background-color: #434B5C;\n",
              "      box-shadow: 0px 1px 3px 1px rgba(0, 0, 0, 0.15);\n",
              "      filter: drop-shadow(0px 1px 2px rgba(0, 0, 0, 0.3));\n",
              "      fill: #FFFFFF;\n",
              "    }\n",
              "  </style>\n",
              "\n",
              "      <script>\n",
              "        const buttonEl =\n",
              "          document.querySelector('#df-8e444bdc-6def-42ea-abef-a0867eaeff61 button.colab-df-convert');\n",
              "        buttonEl.style.display =\n",
              "          google.colab.kernel.accessAllowed ? 'block' : 'none';\n",
              "\n",
              "        async function convertToInteractive(key) {\n",
              "          const element = document.querySelector('#df-8e444bdc-6def-42ea-abef-a0867eaeff61');\n",
              "          const dataTable =\n",
              "            await google.colab.kernel.invokeFunction('convertToInteractive',\n",
              "                                                     [key], {});\n",
              "          if (!dataTable) return;\n",
              "\n",
              "          const docLinkHtml = 'Like what you see? Visit the ' +\n",
              "            '<a target=\"_blank\" href=https://colab.research.google.com/notebooks/data_table.ipynb>data table notebook</a>'\n",
              "            + ' to learn more about interactive tables.';\n",
              "          element.innerHTML = '';\n",
              "          dataTable['output_type'] = 'display_data';\n",
              "          await google.colab.output.renderOutput(dataTable, element);\n",
              "          const docLink = document.createElement('div');\n",
              "          docLink.innerHTML = docLinkHtml;\n",
              "          element.appendChild(docLink);\n",
              "        }\n",
              "      </script>\n",
              "    </div>\n",
              "  </div>\n",
              "  "
            ]
          },
          "metadata": {},
          "execution_count": 44
        }
      ]
    },
    {
      "cell_type": "code",
      "source": [
        "for i in ['Lead Origin','Lead Source','Last Activity','Specialization','Last Notable Activity','What is your current occupation',\n",
        "          'What matters most to you in choosing a course','Tags','City']:\n",
        "  df[[i,'Converted']].groupby(i)['Converted'].sum().plot.bar()\n",
        "  plt.show()"
      ],
      "metadata": {
        "colab": {
          "base_uri": "https://localhost:8080/",
          "height": 1000
        },
        "id": "wj3ArFp4ICyc",
        "outputId": "9958499b-b145-4706-ffee-2bf353bb975d"
      },
      "execution_count": 45,
      "outputs": [
        {
          "output_type": "display_data",
          "data": {
            "text/plain": [
              "<Figure size 432x288 with 1 Axes>"
            ],
            "image/png": "[encoded data removed]"
          },
          "metadata": {
            "needs_background": "light"
          }
        },
        {
          "output_type": "display_data",
          "data": {
            "text/plain": [
              "<Figure size 432x288 with 1 Axes>"
            ],
            "image/png": "[encoded data removed]"
          },
          "metadata": {
            "needs_background": "light"
          }
        },
        {
          "output_type": "display_data",
          "data": {
            "text/plain": [
              "<Figure size 432x288 with 1 Axes>"
            ],
            "image/png": "[encoded data removed]"
          },
          "metadata": {
            "needs_background": "light"
          }
        },
        {
          "output_type": "display_data",
          "data": {
            "text/plain": [
              "<Figure size 432x288 with 1 Axes>"
            ],
            "image/png": "[encoded data removed]"
          },
          "metadata": {
            "needs_background": "light"
          }
        },
        {
          "output_type": "display_data",
          "data": {
            "text/plain": [
              "<Figure size 432x288 with 1 Axes>"
            ],
            "image/png": "[encoded data removed]"
          },
          "metadata": {
            "needs_background": "light"
          }
        },
        {
          "output_type": "display_data",
          "data": {
            "text/plain": [
              "<Figure size 432x288 with 1 Axes>"
            ],
            "image/png": "[encoded data removed]"
          },
          "metadata": {
            "needs_background": "light"
          }
        },
        {
          "output_type": "display_data",
          "data": {
            "text/plain": [
              "<Figure size 432x288 with 1 Axes>"
            ],
            "image/png": "[encoded data removed]"
          },
          "metadata": {
            "needs_background": "light"
          }
        },
        {
          "output_type": "display_data",
          "data": {
            "text/plain": [
              "<Figure size 432x288 with 1 Axes>"
            ],
            "image/png": "[encoded data removed]"
          },
          "metadata": {
            "needs_background": "light"
          }
        },
        {
          "output_type": "display_data",
          "data": {
            "text/plain": [
              "<Figure size 432x288 with 1 Axes>"
            ],
            "image/png": "[encoded data removed]"
          },
          "metadata": {
            "needs_background": "light"
          }
        }
      ]
    },
    {
      "cell_type": "code",
      "source": [
        "#Now analyzing categorical variables for converted leads\n",
        "df_conv = df[df.Converted == 1]\n",
        "for i in ['Lead Origin','Lead Source','Last Activity','Specialization','Last Notable Activity','What is your current occupation',\n",
        "          'What matters most to you in choosing a course','Tags','City']:\n",
        "  df_conv[[i,'Converted']].groupby(i)['Converted'].sum().plot.bar()\n",
        "  plt.show()"
      ],
      "metadata": {
        "colab": {
          "base_uri": "https://localhost:8080/",
          "height": 1000
        },
        "id": "42LB1yoeJ2Oo",
        "outputId": "5df4322e-99b9-4cb1-add7-3f6482b722c0"
      },
      "execution_count": 46,
      "outputs": [
        {
          "output_type": "display_data",
          "data": {
            "text/plain": [
              "<Figure size 432x288 with 1 Axes>"
            ],
            "image/png": "[encoded data removed]"
          },
          "metadata": {
            "needs_background": "light"
          }
        },
        {
          "output_type": "display_data",
          "data": {
            "text/plain": [
              "<Figure size 432x288 with 1 Axes>"
            ],
            "image/png": "[encoded data removed]"
          },
          "metadata": {
            "needs_background": "light"
          }
        },
        {
          "output_type": "display_data",
          "data": {
            "text/plain": [
              "<Figure size 432x288 with 1 Axes>"
            ],
            "image/png": "[encoded data removed]"
          },
          "metadata": {
            "needs_background": "light"
          }
        },
        {
          "output_type": "display_data",
          "data": {
            "text/plain": [
              "<Figure size 432x288 with 1 Axes>"
            ],
            "image/png": "[encoded data removed]"
          },
          "metadata": {
            "needs_background": "light"
          }
        },
        {
          "output_type": "display_data",
          "data": {
            "text/plain": [
              "<Figure size 432x288 with 1 Axes>"
            ],
            "image/png": "[encoded data removed]"
          },
          "metadata": {
            "needs_background": "light"
          }
        },
        {
          "output_type": "display_data",
          "data": {
            "text/plain": [
              "<Figure size 432x288 with 1 Axes>"
            ],
            "image/png": "[encoded data removed]"
          },
          "metadata": {
            "needs_background": "light"
          }
        },
        {
          "output_type": "display_data",
          "data": {
            "text/plain": [
              "<Figure size 432x288 with 1 Axes>"
            ],
            "image/png": "[encoded data removed]"
          },
          "metadata": {
            "needs_background": "light"
          }
        },
        {
          "output_type": "display_data",
          "data": {
            "text/plain": [
              "<Figure size 432x288 with 1 Axes>"
            ],
            "image/png": "[encoded data removed]"
          },
          "metadata": {
            "needs_background": "light"
          }
        },
        {
          "output_type": "display_data",
          "data": {
            "text/plain": [
              "<Figure size 432x288 with 1 Axes>"
            ],
            "image/png": "[encoded data removed]"
          },
          "metadata": {
            "needs_background": "light"
          }
        }
      ]
    },
    {
      "cell_type": "code",
      "source": [
        "for i in df.select_dtypes(include=\"object\"):\n",
        "  print(100*df[i].value_counts(normalize=True))"
      ],
      "metadata": {
        "id": "qRAKooKXDBDR"
      },
      "execution_count": null,
      "outputs": []
    },
    {
      "cell_type": "code",
      "source": [
        "#Reducing categories\n",
        "cols_to_combine = []\n",
        "temp = df['Lead Source'].value_counts().reset_index()\n",
        "temp = temp[temp[\"Lead Source\"]*100/temp[\"Lead Source\"].sum() < 2]\n",
        "for i in temp['index']:\n",
        "    cols_to_combine.append(i)\n",
        "cols_to_combine"
      ],
      "metadata": {
        "id": "zV9m8VG6DS0k"
      },
      "execution_count": null,
      "outputs": []
    },
    {
      "cell_type": "code",
      "source": [
        "cols_to_combine1 = []\n",
        "temp = df['Last Activity'].value_counts().reset_index()\n",
        "temp = temp[temp[\"Last Activity\"]*100/temp[\"Last Activity\"].sum() < 2]\n",
        "for i in temp['index']:\n",
        "    cols_to_combine1.append(i)\n",
        "cols_to_combine1"
      ],
      "metadata": {
        "id": "t1_yzP0kEFhW"
      },
      "execution_count": null,
      "outputs": []
    },
    {
      "cell_type": "code",
      "source": [
        "cols_to_combine2 = []\n",
        "temp = df['Specialization'].value_counts().reset_index()\n",
        "temp = temp[temp[\"Specialization\"]*100/temp[\"Specialization\"].sum() < 4]\n",
        "for i in temp['index']:\n",
        "    cols_to_combine2.append(i)\n",
        "cols_to_combine2"
      ],
      "metadata": {
        "id": "oBv42x7sEUzg"
      },
      "execution_count": null,
      "outputs": []
    },
    {
      "cell_type": "code",
      "source": [
        "cols_to_combine3 = []\n",
        "temp = df['Tags'].value_counts().reset_index()\n",
        "temp = temp[temp[\"Tags\"]*100/temp[\"Tags\"].sum() < 2]\n",
        "for i in temp['index']:\n",
        "    cols_to_combine3.append(i)\n",
        "cols_to_combine3"
      ],
      "metadata": {
        "id": "FIKFI5pquki0"
      },
      "execution_count": null,
      "outputs": []
    },
    {
      "cell_type": "code",
      "source": [
        "cols_to_combine4 = []\n",
        "temp = df['Last Notable Activity'].value_counts().reset_index()\n",
        "temp = temp[temp[\"Last Notable Activity\"]*100/temp[\"Last Notable Activity\"].sum() < 2]\n",
        "for i in temp['index']:\n",
        "    cols_to_combine4.append(i)\n",
        "cols_to_combine4"
      ],
      "metadata": {
        "id": "dSkD2i29vbjk"
      },
      "execution_count": null,
      "outputs": []
    },
    {
      "cell_type": "code",
      "source": [
        "df['Lead Source'] = df['Lead Source'].replace(cols_to_combine, 'Other')\n",
        "df['Last Activity'] = df['Last Activity'].replace(cols_to_combine1, 'Other')\n",
        "df['Specialization'] = df['Specialization'].replace(cols_to_combine2, 'Other')\n",
        "df['Tags'] = df['Tags'].replace(cols_to_combine3, 'Other')\n",
        "df['Last Notable Activity'] = df['Last Notable Activity'].replace(cols_to_combine4, 'Other')"
      ],
      "metadata": {
        "id": "3Ign2eYGvskj"
      },
      "execution_count": null,
      "outputs": []
    },
    {
      "cell_type": "code",
      "source": [
        "# Dropping the first column from the dummies created using 'drop_first = True' to avoid multicollinearity in the model\n",
        "leadorigin = pd.get_dummies(df['Lead Origin'], drop_first = True, prefix = 'leadorigin')\n",
        "leadsource = pd.get_dummies(df['Lead Source'], drop_first = True, prefix = 'leadsource')\n",
        "lastactivity = pd.get_dummies(df['Last Activity'], drop_first = True, prefix = 'lastactivity')\n",
        "specialization = pd.get_dummies(df['Specialization'], drop_first = True, prefix = 'specialization')\n",
        "currentocc = pd.get_dummies(df['What is your current occupation'], drop_first = True, prefix = 'currentocc')\n",
        "reason = pd.get_dummies(df['What matters most to you in choosing a course'], drop_first = True, prefix = 'reason')\n",
        "tags = pd.get_dummies(df['Tags'], drop_first = True, prefix = 'tags')\n",
        "city = pd.get_dummies(df['City'], drop_first = True, prefix = 'city')\n",
        "lastnotableact = pd.get_dummies(df['Last Notable Activity'], drop_first = True, prefix = 'lastnotableact')"
      ],
      "metadata": {
        "id": "3YHoSig1AoTQ"
      },
      "execution_count": null,
      "outputs": []
    },
    {
      "cell_type": "code",
      "source": [
        "df = pd.concat([df,leadorigin, leadsource, lastactivity, specialization,currentocc, reason, tags, city,lastnotableact ],axis=1)\n",
        "df.head()"
      ],
      "metadata": {
        "id": "eg9k5kdcBmsM"
      },
      "execution_count": null,
      "outputs": []
    },
    {
      "cell_type": "code",
      "source": [
        "df.drop(['Lead Origin','Lead Source','Last Activity','Specialization','What is your current occupation','What matters most to you in choosing a course','Tags','City','Last Notable Activity'],axis=1,inplace=True)\n",
        "df.head()"
      ],
      "metadata": {
        "id": "kluwuIlIw_ZC"
      },
      "execution_count": null,
      "outputs": []
    },
    {
      "cell_type": "code",
      "source": [
        "final_df = df.drop(['Prospect ID','Lead Number'],axis=1)\n",
        "final_df.head()"
      ],
      "metadata": {
        "id": "catBimW3xXcf"
      },
      "execution_count": null,
      "outputs": []
    },
    {
      "cell_type": "code",
      "source": [
        "final_df.shape"
      ],
      "metadata": {
        "id": "7SIlRXvsxt6C"
      },
      "execution_count": null,
      "outputs": []
    },
    {
      "cell_type": "code",
      "source": [
        "#checking correlation between numeric and boolean variables with SalesPrice\n",
        "res = final_df.corr()\n",
        "f, ax = plt.subplots(figsize=(50,50))\n",
        "ax = sns.heatmap(res, annot=True, cmap='RdYlGn')\n",
        "plt.show()\n"
      ],
      "metadata": {
        "id": "H6QlR8zjx08Z"
      },
      "execution_count": null,
      "outputs": []
    },
    {
      "cell_type": "code",
      "source": [
        "#Dropping columns that are highly correlation to remove multicollinearity\n",
        "final_df.drop(['Page Views Per Visit','leadorigin_Lead Add Form','leadsource_Olark Chat','lastactivity_Email Opened','specialization_Other','city_Other','lastactivity_Email Opened',\n",
        "               'lastactivity_Email Link Clicked','lastactivity_Page Visited on Website','lastactivity_SMS Sent','currentocc_Other','reason_Other','tags_Other','lastnotableact_Modified',\n",
        "               'currentocc_Unemployed','tags_Not reachable'],axis=1,inplace=True)"
      ],
      "metadata": {
        "id": "6TbHMO30E6iu"
      },
      "execution_count": null,
      "outputs": []
    },
    {
      "cell_type": "code",
      "source": [
        "#checking correlation between numeric and boolean variables with SalesPrice\n",
        "res = final_df.corr()\n",
        "f, ax = plt.subplots(figsize=(50,50))\n",
        "ax = sns.heatmap(res, annot=True, cmap='RdYlGn')\n",
        "plt.show()\n"
      ],
      "metadata": {
        "id": "Bsp7pk3JGvLP"
      },
      "execution_count": null,
      "outputs": []
    },
    {
      "cell_type": "code",
      "source": [
        "# Putting feature variable to X\n",
        "X = final_df.drop(['Converted'], axis=1)\n",
        "\n",
        "X.head()"
      ],
      "metadata": {
        "id": "bJX6MH2vIepI"
      },
      "execution_count": null,
      "outputs": []
    },
    {
      "cell_type": "code",
      "source": [
        "# Putting response variable to y\n",
        "y = final_df['Converted']\n",
        "\n",
        "y.head()"
      ],
      "metadata": {
        "id": "xdAE4codJB-I"
      },
      "execution_count": null,
      "outputs": []
    },
    {
      "cell_type": "code",
      "source": [
        "# Splitting the data into train and test\n",
        "X_train, X_test, y_train, y_test = train_test_split(X, y, train_size=0.7, test_size=0.3, random_state=100)"
      ],
      "metadata": {
        "id": "p71U2pd9JHFZ"
      },
      "execution_count": null,
      "outputs": []
    },
    {
      "cell_type": "code",
      "source": [
        "scaler = StandardScaler()\n",
        "\n",
        "X_train[['TotalVisits','Total Time Spent on Website']] = scaler.fit_transform(X_train[['TotalVisits','Total Time Spent on Website']])\n",
        "\n",
        "X_train.head()"
      ],
      "metadata": {
        "id": "XsFhI6pUJJ3W"
      },
      "execution_count": null,
      "outputs": []
    },
    {
      "cell_type": "code",
      "source": [
        "# Logistic regression model\n",
        "logm1 = sm.GLM(y_train,(sm.add_constant(X_train)), family = sm.families.Binomial())\n",
        "logm1.fit().summary()"
      ],
      "metadata": {
        "id": "Rr9oyUQIKGsl"
      },
      "execution_count": null,
      "outputs": []
    },
    {
      "cell_type": "code",
      "source": [
        "#selecting features using RFE\n",
        "logreg = LogisticRegression()\n",
        "rfe = RFE(logreg, n_features_to_select=15)             # running RFE with 13 variables as output\n",
        "rfe = rfe.fit(X_train, y_train)"
      ],
      "metadata": {
        "id": "1S9CKSFkKXV3"
      },
      "execution_count": null,
      "outputs": []
    },
    {
      "cell_type": "code",
      "source": [
        "list(zip(X_train.columns, rfe.support_, rfe.ranking_))"
      ],
      "metadata": {
        "id": "1eTzm0ZqK6EF"
      },
      "execution_count": null,
      "outputs": []
    },
    {
      "cell_type": "code",
      "source": [
        "col = X_train.columns[rfe.support_]\n",
        "col"
      ],
      "metadata": {
        "id": "MEJu4yL4K99o"
      },
      "execution_count": null,
      "outputs": []
    },
    {
      "cell_type": "code",
      "source": [
        "X_train.columns[~rfe.support_]"
      ],
      "metadata": {
        "id": "GsjkhPyeLBEb"
      },
      "execution_count": null,
      "outputs": []
    },
    {
      "cell_type": "markdown",
      "source": [
        "Assessing model with statsmodel"
      ],
      "metadata": {
        "id": "SiFe7c-2LKpC"
      }
    },
    {
      "cell_type": "code",
      "source": [
        "X_train_sm = sm.add_constant(X_train[col])\n",
        "logm2 = sm.GLM(y_train,X_train_sm, family = sm.families.Binomial())\n",
        "res = logm2.fit()\n",
        "res.summary()"
      ],
      "metadata": {
        "id": "RVo1w4M_LGOq"
      },
      "execution_count": null,
      "outputs": []
    },
    {
      "cell_type": "code",
      "source": [
        "# Getting the predicted values on the train set\n",
        "y_train_pred = res.predict(X_train_sm)\n",
        "y_train_pred = y_train_pred.values.reshape(-1)\n",
        "y_train_pred[:10]"
      ],
      "metadata": {
        "id": "sWB_fLoSPDY7"
      },
      "execution_count": null,
      "outputs": []
    },
    {
      "cell_type": "code",
      "source": [
        "y_train_pred_final = pd.DataFrame({'Converted':y_train.values, 'Converted_Prob':y_train_pred})\n",
        "y_train_pred_final['Prospect ID'] = y_train.index\n",
        "y_train_pred_final.head()"
      ],
      "metadata": {
        "id": "Ikuyjzl_PJzd"
      },
      "execution_count": null,
      "outputs": []
    },
    {
      "cell_type": "code",
      "source": [
        "y_train_pred_final['predicted'] = y_train_pred_final.Converted_Prob.map(lambda x: 1 if x > 0.5 else 0)\n",
        "\n",
        "# Let's see the head\n",
        "y_train_pred_final.head()"
      ],
      "metadata": {
        "id": "lVMvGXJ4PTdV"
      },
      "execution_count": null,
      "outputs": []
    },
    {
      "cell_type": "code",
      "source": [
        "# Confusion matrix \n",
        "confusion = metrics.confusion_matrix(y_train_pred_final.Converted, y_train_pred_final.predicted )\n",
        "print(confusion)"
      ],
      "metadata": {
        "id": "jlzy2tCRPvCy"
      },
      "execution_count": null,
      "outputs": []
    },
    {
      "cell_type": "code",
      "source": [
        "# Let's check the overall accuracy.\n",
        "print(metrics.accuracy_score(y_train_pred_final.Converted, y_train_pred_final.predicted))"
      ],
      "metadata": {
        "id": "8phuzuhwPZfK"
      },
      "execution_count": null,
      "outputs": []
    },
    {
      "cell_type": "code",
      "source": [
        "col = ['Total Time Spent on Website', 'leadorigin_Landing Page Submission',\n",
        "       'leadorigin_Lead Import', 'leadsource_Organic Search', 'leadsource_Other',\n",
        "       'lastactivity_Email Bounced', 'lastactivity_Olark Chat Conversation',\n",
        "       'currentocc_Housewife', 'currentocc_Student',\n",
        "       'currentocc_Working Professional', 'tags_Interested in other courses',\n",
        "       'tags_Lost to Competitors', 'tags_Reply Awaited',\n",
        "       'lastnotableact_SMS Sent']"
      ],
      "metadata": {
        "id": "AfktntTYLVac"
      },
      "execution_count": null,
      "outputs": []
    },
    {
      "cell_type": "code",
      "source": [
        "X_train_sm = sm.add_constant(X_train[col])\n",
        "logm3 = sm.GLM(y_train,X_train_sm, family = sm.families.Binomial())\n",
        "res = logm3.fit()\n",
        "res.summary()"
      ],
      "metadata": {
        "id": "ToYjIqTPLdXU"
      },
      "execution_count": null,
      "outputs": []
    },
    {
      "cell_type": "code",
      "source": [
        "# Getting the predicted values on the train set\n",
        "y_train_pred = res.predict(X_train_sm)\n",
        "y_train_pred = y_train_pred.values.reshape(-1)\n",
        "y_train_pred[:10]"
      ],
      "metadata": {
        "id": "_KW8LQlCPfCz"
      },
      "execution_count": null,
      "outputs": []
    },
    {
      "cell_type": "code",
      "source": [
        "y_train_pred_final = pd.DataFrame({'Converted':y_train.values, 'Converted_Prob':y_train_pred})\n",
        "y_train_pred_final['Prospect ID'] = y_train.index\n",
        "y_train_pred_final.head()"
      ],
      "metadata": {
        "id": "vqH9hRiLPfCz"
      },
      "execution_count": null,
      "outputs": []
    },
    {
      "cell_type": "code",
      "source": [
        "y_train_pred_final['predicted'] = y_train_pred_final.Converted_Prob.map(lambda x: 1 if x > 0.5 else 0)\n",
        "\n",
        "# Let's see the head\n",
        "y_train_pred_final.head()"
      ],
      "metadata": {
        "id": "G1mIo_TOPfCz"
      },
      "execution_count": null,
      "outputs": []
    },
    {
      "cell_type": "code",
      "source": [
        "# Let's check the overall accuracy.\n",
        "print(metrics.accuracy_score(y_train_pred_final.Converted, y_train_pred_final.predicted))"
      ],
      "metadata": {
        "id": "HO-oyIrtPfCz"
      },
      "execution_count": null,
      "outputs": []
    },
    {
      "cell_type": "code",
      "source": [
        "col = ['Total Time Spent on Website', 'leadorigin_Landing Page Submission',\n",
        "       'leadorigin_Lead Import', 'leadsource_Organic Search', 'leadsource_Other',\n",
        "       'lastactivity_Email Bounced', 'lastactivity_Olark Chat Conversation',\n",
        "       'currentocc_Student','currentocc_Working Professional', 'tags_Interested in other courses',\n",
        "       'tags_Lost to Competitors', 'tags_Reply Awaited',\n",
        "       'lastnotableact_SMS Sent']"
      ],
      "metadata": {
        "id": "wRQ64wlmLxTG"
      },
      "execution_count": null,
      "outputs": []
    },
    {
      "cell_type": "code",
      "source": [
        "X_train_sm = sm.add_constant(X_train[col])\n",
        "logm4 = sm.GLM(y_train,X_train_sm, family = sm.families.Binomial())\n",
        "res = logm4.fit()\n",
        "res.summary()"
      ],
      "metadata": {
        "id": "GK9lHrnxL1XD"
      },
      "execution_count": null,
      "outputs": []
    },
    {
      "cell_type": "code",
      "source": [
        "# Getting the predicted values on the train set\n",
        "y_train_pred = res.predict(X_train_sm)\n",
        "y_train_pred = y_train_pred.values.reshape(-1)\n",
        "y_train_pred[:10]"
      ],
      "metadata": {
        "id": "yWk4ZUfqPjDK"
      },
      "execution_count": null,
      "outputs": []
    },
    {
      "cell_type": "code",
      "source": [
        "y_train_pred_final = pd.DataFrame({'Converted':y_train.values, 'Converted_Prob':y_train_pred})\n",
        "y_train_pred_final['Prospect ID'] = y_train.index\n",
        "y_train_pred_final.head()"
      ],
      "metadata": {
        "id": "pRF8Uvk6PjDK"
      },
      "execution_count": null,
      "outputs": []
    },
    {
      "cell_type": "code",
      "source": [
        "y_train_pred_final['predicted'] = y_train_pred_final.Converted_Prob.map(lambda x: 1 if x > 0.5 else 0)\n",
        "\n",
        "# Let's see the head\n",
        "y_train_pred_final.head()"
      ],
      "metadata": {
        "id": "9iq74tauPjDK"
      },
      "execution_count": null,
      "outputs": []
    },
    {
      "cell_type": "code",
      "source": [
        "# Let's check the overall accuracy.\n",
        "print(metrics.accuracy_score(y_train_pred_final.Converted, y_train_pred_final.predicted))"
      ],
      "metadata": {
        "id": "vFuy5iSOPjDL"
      },
      "execution_count": null,
      "outputs": []
    },
    {
      "cell_type": "code",
      "source": [
        "col = ['Total Time Spent on Website', 'leadorigin_Landing Page Submission',\n",
        "       'leadorigin_Lead Import', 'leadsource_Organic Search', 'leadsource_Other',\n",
        "       'lastactivity_Email Bounced', 'lastactivity_Olark Chat Conversation',\n",
        "       'currentocc_Student','tags_Interested in other courses',\n",
        "       'tags_Lost to Competitors', 'tags_Reply Awaited',\n",
        "       'lastnotableact_SMS Sent']"
      ],
      "metadata": {
        "id": "I0nKxuHwMDAu"
      },
      "execution_count": null,
      "outputs": []
    },
    {
      "cell_type": "code",
      "source": [
        "X_train_sm = sm.add_constant(X_train[col])\n",
        "logm5 = sm.GLM(y_train,X_train_sm, family = sm.families.Binomial())\n",
        "res = logm5.fit()\n",
        "res.summary()"
      ],
      "metadata": {
        "id": "jV8i_e1hMFYn"
      },
      "execution_count": null,
      "outputs": []
    },
    {
      "cell_type": "code",
      "source": [
        "# Getting the predicted values on the train set\n",
        "y_train_pred = res.predict(X_train_sm)\n",
        "y_train_pred = y_train_pred.values.reshape(-1)\n",
        "y_train_pred[:10]"
      ],
      "metadata": {
        "id": "00XIUUOsPlnH"
      },
      "execution_count": null,
      "outputs": []
    },
    {
      "cell_type": "code",
      "source": [
        "y_train_pred_final = pd.DataFrame({'Converted':y_train.values, 'Converted_Prob':y_train_pred})\n",
        "y_train_pred_final['Prospect ID'] = y_train.index\n",
        "y_train_pred_final.head()"
      ],
      "metadata": {
        "id": "V7TiycOrPlnI"
      },
      "execution_count": null,
      "outputs": []
    },
    {
      "cell_type": "code",
      "source": [
        "y_train_pred_final['predicted'] = y_train_pred_final.Converted_Prob.map(lambda x: 1 if x > 0.5 else 0)\n",
        "\n",
        "# Let's see the head\n",
        "y_train_pred_final.head()"
      ],
      "metadata": {
        "id": "1ieUMQPgPlnI"
      },
      "execution_count": null,
      "outputs": []
    },
    {
      "cell_type": "code",
      "source": [
        "# Let's check the overall accuracy.\n",
        "print(metrics.accuracy_score(y_train_pred_final.Converted, y_train_pred_final.predicted))"
      ],
      "metadata": {
        "id": "_S588uDYPlnI"
      },
      "execution_count": null,
      "outputs": []
    },
    {
      "cell_type": "code",
      "source": [
        "# Create a dataframe that will contain the names of all the feature variables and their respective VIFs\n",
        "vif = pd.DataFrame()\n",
        "vif['Features'] = X_train[col].columns\n",
        "vif['VIF'] = [variance_inflation_factor(X_train[col].values, i) for i in range(X_train[col].shape[1])]\n",
        "vif['VIF'] = round(vif['VIF'], 2)\n",
        "vif = vif.sort_values(by = \"VIF\", ascending = False)\n",
        "vif"
      ],
      "metadata": {
        "id": "Lpu5GtzaNKON"
      },
      "execution_count": null,
      "outputs": []
    },
    {
      "cell_type": "code",
      "source": [
        "def draw_roc( actual, probs ):\n",
        "    fpr, tpr, thresholds = metrics.roc_curve( actual, probs,\n",
        "                                              drop_intermediate = False )\n",
        "    auc_score = metrics.roc_auc_score( actual, probs )\n",
        "    plt.figure(figsize=(5, 5))\n",
        "    plt.plot( fpr, tpr, label='ROC curve (area = %0.2f)' % auc_score )\n",
        "    plt.plot([0, 1], [0, 1], 'k--')\n",
        "    plt.xlim([0.0, 1.0])\n",
        "    plt.ylim([0.0, 1.05])\n",
        "    plt.xlabel('False Positive Rate or [1 - True Negative Rate]')\n",
        "    plt.ylabel('True Positive Rate')\n",
        "    plt.title('Receiver operating characteristic example')\n",
        "    plt.legend(loc=\"lower right\")\n",
        "    plt.show()\n",
        "\n",
        "    return None"
      ],
      "metadata": {
        "id": "hqglxlVxQGGb"
      },
      "execution_count": null,
      "outputs": []
    },
    {
      "cell_type": "code",
      "source": [
        "fpr, tpr, thresholds = metrics.roc_curve( y_train_pred_final.Converted, y_train_pred_final.Converted_Prob, drop_intermediate = False )"
      ],
      "metadata": {
        "id": "Wmfzg97BQJNn"
      },
      "execution_count": null,
      "outputs": []
    },
    {
      "cell_type": "code",
      "source": [
        "draw_roc(y_train_pred_final.Converted, y_train_pred_final.Converted_Prob)"
      ],
      "metadata": {
        "id": "2RA4j5AfQPVq"
      },
      "execution_count": null,
      "outputs": []
    },
    {
      "cell_type": "code",
      "source": [
        "# Let's create columns with different probability cutoffs \n",
        "numbers = [float(x)/10 for x in range(10)]\n",
        "for i in numbers:\n",
        "    y_train_pred_final[i]= y_train_pred_final.Converted_Prob.map(lambda x: 1 if x > i else 0)\n",
        "y_train_pred_final.head()"
      ],
      "metadata": {
        "id": "9Ta7E26CQXnZ"
      },
      "execution_count": null,
      "outputs": []
    },
    {
      "cell_type": "code",
      "source": [
        "# Now let's calculate accuracy sensitivity and specificity for various probability cutoffs.\n",
        "cutoff_df = pd.DataFrame( columns = ['prob','accuracy','sensi','speci'])\n",
        "from sklearn.metrics import confusion_matrix\n",
        "\n",
        "# TP = confusion[1,1] # true positive \n",
        "# TN = confusion[0,0] # true negatives\n",
        "# FP = confusion[0,1] # false positives\n",
        "# FN = confusion[1,0] # false negatives\n",
        "\n",
        "num = [0.0,0.1,0.2,0.3,0.4,0.5,0.6,0.7,0.8,0.9]\n",
        "for i in num:\n",
        "    cm1 = metrics.confusion_matrix(y_train_pred_final.Converted, y_train_pred_final[i] )\n",
        "    total1=sum(sum(cm1))\n",
        "    accuracy = (cm1[0,0]+cm1[1,1])/total1\n",
        "    \n",
        "    speci = cm1[0,0]/(cm1[0,0]+cm1[0,1])\n",
        "    sensi = cm1[1,1]/(cm1[1,0]+cm1[1,1])\n",
        "    cutoff_df.loc[i] =[ i ,accuracy,sensi,speci]\n",
        "print(cutoff_df)"
      ],
      "metadata": {
        "id": "7CoiOsNbQc6v"
      },
      "execution_count": null,
      "outputs": []
    },
    {
      "cell_type": "code",
      "source": [
        "# Let's plot accuracy sensitivity and specificity for various probabilities.\n",
        "cutoff_df.plot.line(x='prob', y=['accuracy','sensi','speci'])\n",
        "plt.show()"
      ],
      "metadata": {
        "id": "pUlqi3ZUQiTw"
      },
      "execution_count": null,
      "outputs": []
    },
    {
      "cell_type": "code",
      "source": [
        "y_train_pred_final['final_predicted'] = y_train_pred_final.Converted_Prob.map( lambda x: 1 if x > 0.3 else 0)\n",
        "\n",
        "y_train_pred_final.head()"
      ],
      "metadata": {
        "id": "N90J_rYfQodx"
      },
      "execution_count": null,
      "outputs": []
    },
    {
      "cell_type": "code",
      "source": [
        "# Let's check the overall accuracy.\n",
        "metrics.accuracy_score(y_train_pred_final.Converted, y_train_pred_final.final_predicted)"
      ],
      "metadata": {
        "id": "3W7CstZeQxcZ"
      },
      "execution_count": null,
      "outputs": []
    },
    {
      "cell_type": "code",
      "source": [
        "confusion2 = metrics.confusion_matrix(y_train_pred_final.Converted, y_train_pred_final.final_predicted )\n",
        "confusion2"
      ],
      "metadata": {
        "id": "S2JhSb8iQ5mZ"
      },
      "execution_count": null,
      "outputs": []
    },
    {
      "cell_type": "code",
      "source": [
        "TP = confusion2[1,1] # true positive \n",
        "TN = confusion2[0,0] # true negatives\n",
        "FP = confusion2[0,1] # false positives\n",
        "FN = confusion2[1,0] # false negatives"
      ],
      "metadata": {
        "id": "OLhqjSfnQ8sN"
      },
      "execution_count": null,
      "outputs": []
    },
    {
      "cell_type": "code",
      "source": [
        "# Let's see the sensitivity of our logistic regression model\n",
        "TP / float(TP+FN)"
      ],
      "metadata": {
        "id": "TuKJaqe3Q9fO"
      },
      "execution_count": null,
      "outputs": []
    },
    {
      "cell_type": "code",
      "source": [
        "# Let us calculate specificity\n",
        "TN / float(TN+FP)"
      ],
      "metadata": {
        "id": "JPVqzydXQ__Q"
      },
      "execution_count": null,
      "outputs": []
    },
    {
      "cell_type": "code",
      "source": [
        "# Calculate false postive rate - predicting conversion when lead has not have converted\n",
        "print(FP/ float(TN+FP))"
      ],
      "metadata": {
        "id": "KcX3NDfURDkT"
      },
      "execution_count": null,
      "outputs": []
    },
    {
      "cell_type": "code",
      "source": [
        "# Positive predictive value \n",
        "print (TP / float(TP+FP))"
      ],
      "metadata": {
        "id": "71Ub38pLRMTw"
      },
      "execution_count": null,
      "outputs": []
    },
    {
      "cell_type": "code",
      "source": [
        "# Negative predictive value\n",
        "print (TN / float(TN+ FN))"
      ],
      "metadata": {
        "id": "Q2RJBtM5RRby"
      },
      "execution_count": null,
      "outputs": []
    },
    {
      "cell_type": "code",
      "source": [],
      "metadata": {
        "id": "X_tOyB8CRTPb"
      },
      "execution_count": null,
      "outputs": []
    }
  ]
}